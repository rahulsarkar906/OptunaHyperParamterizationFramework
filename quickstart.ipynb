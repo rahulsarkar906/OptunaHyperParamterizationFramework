{
  "nbformat": 4,
  "nbformat_minor": 0,
  "metadata": {
    "kernelspec": {
      "display_name": "Python 3",
      "language": "python",
      "name": "python3"
    },
    "language_info": {
      "codemirror_mode": {
        "name": "ipython",
        "version": 3
      },
      "file_extension": ".py",
      "mimetype": "text/x-python",
      "name": "python",
      "nbconvert_exporter": "python",
      "pygments_lexer": "ipython3",
      "version": "3.7.4"
    },
    "colab": {
      "name": "quickstart.ipynb",
      "provenance": []
    }
  },
  "cells": [
    {
      "cell_type": "markdown",
      "metadata": {
        "id": "uRZSZS7lQzmE",
        "colab_type": "text"
      },
      "source": [
        "# A Quick Introduction to Optuna\n",
        "\n",
        "This Jupyter notebook goes through the basic usage of Optuna.\n",
        "\n",
        "- Install Optuna\n",
        "- Write a training algorithm that involves hyperparameters\n",
        "  - Read train/valid data\n",
        "  - Define and train model\n",
        "  - Evaluate model\n",
        "- Use Optuna to tune the hyperparameters (hyperparameter optimization, HPO)\n",
        "- Visualize HPO"
      ]
    },
    {
      "cell_type": "markdown",
      "metadata": {
        "id": "1mZlFJZkQzmH",
        "colab_type": "text"
      },
      "source": [
        "## Install `optuna`\n",
        "\n",
        "Optuna can be installed via `pip` or `conda`."
      ]
    },
    {
      "cell_type": "code",
      "metadata": {
        "id": "ZOiefJv6QzmI",
        "colab_type": "code",
        "colab": {
          "base_uri": "https://localhost:8080/",
          "height": 238
        },
        "outputId": "6939f25c-7326-4400-c4b9-1766211d4c69"
      },
      "source": [
        "!pip install --quiet optuna"
      ],
      "execution_count": 1,
      "outputs": [
        {
          "output_type": "stream",
          "text": [
            "\u001b[K     |████████████████████████████████| 204kB 3.2MB/s \n",
            "\u001b[K     |████████████████████████████████| 1.1MB 16.1MB/s \n",
            "\u001b[?25h  Installing build dependencies ... \u001b[?25l\u001b[?25hdone\n",
            "  Getting requirements to build wheel ... \u001b[?25l\u001b[?25hdone\n",
            "    Preparing wheel metadata ... \u001b[?25l\u001b[?25hdone\n",
            "\u001b[K     |████████████████████████████████| 81kB 7.0MB/s \n",
            "\u001b[K     |████████████████████████████████| 81kB 8.1MB/s \n",
            "\u001b[K     |████████████████████████████████| 122kB 23.4MB/s \n",
            "\u001b[K     |████████████████████████████████| 112kB 26.5MB/s \n",
            "\u001b[K     |████████████████████████████████| 51kB 6.2MB/s \n",
            "\u001b[?25h  Building wheel for alembic (PEP 517) ... \u001b[?25l\u001b[?25hdone\n",
            "  Building wheel for optuna (setup.py) ... \u001b[?25l\u001b[?25hdone\n",
            "  Building wheel for pyperclip (setup.py) ... \u001b[?25l\u001b[?25hdone\n"
          ],
          "name": "stdout"
        }
      ]
    },
    {
      "cell_type": "code",
      "metadata": {
        "id": "6P1npcKdQzmM",
        "colab_type": "code",
        "colab": {
          "base_uri": "https://localhost:8080/",
          "height": 35
        },
        "outputId": "833595b9-16c1-4c1b-c3cb-391fb66ed435"
      },
      "source": [
        "import optuna\n",
        "\n",
        "optuna.__version__"
      ],
      "execution_count": 2,
      "outputs": [
        {
          "output_type": "execute_result",
          "data": {
            "application/vnd.google.colaboratory.intrinsic+json": {
              "type": "string"
            },
            "text/plain": [
              "'1.5.0'"
            ]
          },
          "metadata": {
            "tags": []
          },
          "execution_count": 2
        }
      ]
    },
    {
      "cell_type": "markdown",
      "metadata": {
        "id": "CkZktYDSQzmP",
        "colab_type": "text"
      },
      "source": [
        "## Optimize Hyperparameters\n",
        "\n",
        "### Define a simple scikit-learn model\n",
        "\n",
        "We start with a simple random forest model to classify flowers in the Iris dataset. We define a function called `objective` that encapsulates the whole training process and outputs the accuracy of the model."
      ]
    },
    {
      "cell_type": "code",
      "metadata": {
        "id": "7CP_VPeqQzmP",
        "colab_type": "code",
        "colab": {
          "base_uri": "https://localhost:8080/",
          "height": 34
        },
        "outputId": "6d8592a0-0f37-4037-ae54-ca0117b35b11"
      },
      "source": [
        "import sklearn.datasets\n",
        "import sklearn.ensemble\n",
        "import sklearn.model_selection\n",
        "\n",
        "def objective():\n",
        "    iris = sklearn.datasets.load_iris()  # Prepare the data.\n",
        "    \n",
        "    clf = sklearn.ensemble.RandomForestClassifier(    \n",
        "        n_estimators=5, max_depth=3)  # Define the model.\n",
        "    \n",
        "    return sklearn.model_selection.cross_val_score(\n",
        "        clf, iris.data, iris.target, n_jobs=-1, cv=3).mean()  # Train and evaluate the model.\n",
        "\n",
        "print('Accuracy: {}'.format(objective()))"
      ],
      "execution_count": 3,
      "outputs": [
        {
          "output_type": "stream",
          "text": [
            "Accuracy: 0.9466666666666667\n"
          ],
          "name": "stdout"
        }
      ]
    },
    {
      "cell_type": "markdown",
      "metadata": {
        "id": "HrwFCgPmQzmS",
        "colab_type": "text"
      },
      "source": [
        "### Optimize hyperparameters of the model\n",
        "\n",
        "The hyperparameters of the above algorithm are `n_estimators` and `max_depth` for which we can try different values to see if the model accuracy can be improved. The `objective` function is modified to accept a trial object. This trial has several methods for sampling hyperparameters. We create a study to run the hyperparameter optimization and finally read the best hyperparameters."
      ]
    },
    {
      "cell_type": "code",
      "metadata": {
        "id": "_3879pwOQzmS",
        "colab_type": "code",
        "colab": {
          "base_uri": "https://localhost:8080/",
          "height": 1000
        },
        "outputId": "e03bc207-d6cc-4d9d-83da-33cb16c0da1a"
      },
      "source": [
        "import optuna\n",
        "\n",
        "def objective(trial):\n",
        "    iris = sklearn.datasets.load_iris()\n",
        "    \n",
        "    n_estimators = trial.suggest_int('n_estimators', 2, 20)\n",
        "    max_depth = int(trial.suggest_float('max_depth', 1, 32, log=True))\n",
        "    \n",
        "    clf = sklearn.ensemble.RandomForestClassifier(\n",
        "        n_estimators=n_estimators, max_depth=max_depth)\n",
        "    \n",
        "    return sklearn.model_selection.cross_val_score(\n",
        "        clf, iris.data, iris.target, n_jobs=-1, cv=3).mean()\n",
        "\n",
        "study = optuna.create_study(direction='maximize')\n",
        "study.optimize(objective, n_trials=100)\n",
        "\n",
        "trial = study.best_trial\n",
        "\n",
        "print('Accuracy: {}'.format(trial.value))\n",
        "print(\"Best hyperparameters: {}\".format(trial.params))"
      ],
      "execution_count": 4,
      "outputs": [
        {
          "output_type": "stream",
          "text": [
            "[I 2020-07-26 17:57:13,343] Finished trial#0 with value: 0.96 with parameters: {'n_estimators': 15, 'max_depth': 6.194339836265156}. Best is trial#0 with value: 0.96.\n",
            "[I 2020-07-26 17:57:13,533] Finished trial#1 with value: 0.9533333333333333 with parameters: {'n_estimators': 5, 'max_depth': 3.8058862033007914}. Best is trial#0 with value: 0.96.\n",
            "[I 2020-07-26 17:57:13,750] Finished trial#2 with value: 0.96 with parameters: {'n_estimators': 15, 'max_depth': 6.30361710928111}. Best is trial#0 with value: 0.96.\n",
            "[I 2020-07-26 17:57:13,983] Finished trial#3 with value: 0.96 with parameters: {'n_estimators': 19, 'max_depth': 5.1879576620331385}. Best is trial#0 with value: 0.96.\n",
            "[I 2020-07-26 17:57:14,164] Finished trial#4 with value: 0.96 with parameters: {'n_estimators': 4, 'max_depth': 4.248936004432133}. Best is trial#0 with value: 0.96.\n",
            "[I 2020-07-26 17:57:14,397] Finished trial#5 with value: 0.9533333333333333 with parameters: {'n_estimators': 17, 'max_depth': 1.672854268732372}. Best is trial#0 with value: 0.96.\n",
            "[I 2020-07-26 17:57:14,641] Finished trial#6 with value: 0.96 with parameters: {'n_estimators': 19, 'max_depth': 13.731083996448769}. Best is trial#0 with value: 0.96.\n",
            "[I 2020-07-26 17:57:14,818] Finished trial#7 with value: 0.94 with parameters: {'n_estimators': 3, 'max_depth': 4.749826353198412}. Best is trial#0 with value: 0.96.\n",
            "[I 2020-07-26 17:57:14,993] Finished trial#8 with value: 0.66 with parameters: {'n_estimators': 3, 'max_depth': 1.005973488285451}. Best is trial#0 with value: 0.96.\n",
            "[I 2020-07-26 17:57:15,211] Finished trial#9 with value: 0.94 with parameters: {'n_estimators': 14, 'max_depth': 1.8573634083291937}. Best is trial#0 with value: 0.96.\n",
            "[I 2020-07-26 17:57:15,418] Finished trial#10 with value: 0.96 with parameters: {'n_estimators': 10, 'max_depth': 26.77197413454928}. Best is trial#0 with value: 0.96.\n",
            "[I 2020-07-26 17:57:15,628] Finished trial#11 with value: 0.96 with parameters: {'n_estimators': 12, 'max_depth': 10.920282861748682}. Best is trial#0 with value: 0.96.\n",
            "[I 2020-07-26 17:57:15,855] Finished trial#12 with value: 0.96 with parameters: {'n_estimators': 15, 'max_depth': 9.641022429671926}. Best is trial#0 with value: 0.96.\n",
            "[I 2020-07-26 17:57:16,051] Finished trial#13 with value: 0.9666666666666667 with parameters: {'n_estimators': 8, 'max_depth': 7.781400143812815}. Best is trial#13 with value: 0.9666666666666667.\n",
            "[I 2020-07-26 17:57:16,259] Finished trial#14 with value: 0.96 with parameters: {'n_estimators': 8, 'max_depth': 29.54234278022321}. Best is trial#13 with value: 0.9666666666666667.\n",
            "[I 2020-07-26 17:57:16,449] Finished trial#15 with value: 0.9666666666666667 with parameters: {'n_estimators': 7, 'max_depth': 19.589499674403314}. Best is trial#13 with value: 0.9666666666666667.\n",
            "[I 2020-07-26 17:57:16,651] Finished trial#16 with value: 0.9466666666666667 with parameters: {'n_estimators': 8, 'max_depth': 16.954540238688075}. Best is trial#13 with value: 0.9666666666666667.\n",
            "[I 2020-07-26 17:57:16,838] Finished trial#17 with value: 0.9466666666666667 with parameters: {'n_estimators': 7, 'max_depth': 20.944479856647167}. Best is trial#13 with value: 0.9666666666666667.\n",
            "[I 2020-07-26 17:57:17,063] Finished trial#18 with value: 0.96 with parameters: {'n_estimators': 11, 'max_depth': 8.671196599223967}. Best is trial#13 with value: 0.9666666666666667.\n",
            "[I 2020-07-26 17:57:17,255] Finished trial#19 with value: 0.9533333333333333 with parameters: {'n_estimators': 6, 'max_depth': 2.382725927081864}. Best is trial#13 with value: 0.9666666666666667.\n",
            "[I 2020-07-26 17:57:17,477] Finished trial#20 with value: 0.94 with parameters: {'n_estimators': 9, 'max_depth': 20.0729765313613}. Best is trial#13 with value: 0.9666666666666667.\n",
            "[I 2020-07-26 17:57:17,695] Finished trial#21 with value: 0.96 with parameters: {'n_estimators': 12, 'max_depth': 6.826305479373636}. Best is trial#13 with value: 0.9666666666666667.\n",
            "[I 2020-07-26 17:57:17,908] Finished trial#22 with value: 0.9466666666666667 with parameters: {'n_estimators': 13, 'max_depth': 3.098013461667501}. Best is trial#13 with value: 0.9666666666666667.\n",
            "[I 2020-07-26 17:57:18,135] Finished trial#23 with value: 0.96 with parameters: {'n_estimators': 17, 'max_depth': 13.728895155074023}. Best is trial#13 with value: 0.9666666666666667.\n",
            "[I 2020-07-26 17:57:18,332] Finished trial#24 with value: 0.9533333333333333 with parameters: {'n_estimators': 6, 'max_depth': 8.000296993911808}. Best is trial#13 with value: 0.9666666666666667.\n",
            "[I 2020-07-26 17:57:18,538] Finished trial#25 with value: 0.9666666666666667 with parameters: {'n_estimators': 10, 'max_depth': 13.70666255089008}. Best is trial#13 with value: 0.9666666666666667.\n",
            "[I 2020-07-26 17:57:18,748] Finished trial#26 with value: 0.9466666666666667 with parameters: {'n_estimators': 10, 'max_depth': 12.594154673769163}. Best is trial#13 with value: 0.9666666666666667.\n",
            "[I 2020-07-26 17:57:18,938] Finished trial#27 with value: 0.96 with parameters: {'n_estimators': 8, 'max_depth': 24.306286924227393}. Best is trial#13 with value: 0.9666666666666667.\n",
            "[I 2020-07-26 17:57:19,146] Finished trial#28 with value: 0.96 with parameters: {'n_estimators': 10, 'max_depth': 16.540682467018687}. Best is trial#13 with value: 0.9666666666666667.\n",
            "[I 2020-07-26 17:57:19,337] Finished trial#29 with value: 0.9533333333333333 with parameters: {'n_estimators': 6, 'max_depth': 31.890665885375874}. Best is trial#13 with value: 0.9666666666666667.\n",
            "[I 2020-07-26 17:57:19,532] Finished trial#30 with value: 0.9466666666666667 with parameters: {'n_estimators': 9, 'max_depth': 10.739796921294001}. Best is trial#13 with value: 0.9666666666666667.\n",
            "[I 2020-07-26 17:57:19,749] Finished trial#31 with value: 0.9666666666666667 with parameters: {'n_estimators': 11, 'max_depth': 16.975957134630622}. Best is trial#13 with value: 0.9666666666666667.\n",
            "[I 2020-07-26 17:57:19,955] Finished trial#32 with value: 0.9533333333333333 with parameters: {'n_estimators': 11, 'max_depth': 16.5864912465514}. Best is trial#13 with value: 0.9666666666666667.\n",
            "[I 2020-07-26 17:57:20,154] Finished trial#33 with value: 0.9666666666666667 with parameters: {'n_estimators': 7, 'max_depth': 7.613186965064111}. Best is trial#13 with value: 0.9666666666666667.\n",
            "[I 2020-07-26 17:57:20,340] Finished trial#34 with value: 0.96 with parameters: {'n_estimators': 5, 'max_depth': 21.549846260746055}. Best is trial#13 with value: 0.9666666666666667.\n",
            "[I 2020-07-26 17:57:20,525] Finished trial#35 with value: 0.9466666666666667 with parameters: {'n_estimators': 2, 'max_depth': 13.265557942929423}. Best is trial#13 with value: 0.9666666666666667.\n",
            "[I 2020-07-26 17:57:20,689] Finished trial#36 with value: 0.9533333333333333 with parameters: {'n_estimators': 7, 'max_depth': 5.956213094615021}. Best is trial#13 with value: 0.9666666666666667.\n",
            "[I 2020-07-26 17:57:20,850] Finished trial#37 with value: 0.9466666666666667 with parameters: {'n_estimators': 12, 'max_depth': 17.29183736720978}. Best is trial#13 with value: 0.9666666666666667.\n",
            "[I 2020-07-26 17:57:20,996] Finished trial#38 with value: 0.96 with parameters: {'n_estimators': 9, 'max_depth': 11.152553085935343}. Best is trial#13 with value: 0.9666666666666667.\n",
            "[I 2020-07-26 17:57:21,137] Finished trial#39 with value: 0.94 with parameters: {'n_estimators': 5, 'max_depth': 6.86496496719959}. Best is trial#13 with value: 0.9666666666666667.\n",
            "[I 2020-07-26 17:57:21,272] Finished trial#40 with value: 0.9666666666666667 with parameters: {'n_estimators': 4, 'max_depth': 3.304924444885147}. Best is trial#13 with value: 0.9666666666666667.\n",
            "[I 2020-07-26 17:57:21,405] Finished trial#41 with value: 0.9533333333333333 with parameters: {'n_estimators': 4, 'max_depth': 3.431653472994313}. Best is trial#13 with value: 0.9666666666666667.\n",
            "[I 2020-07-26 17:57:21,545] Finished trial#42 with value: 0.96 with parameters: {'n_estimators': 4, 'max_depth': 4.4746667948649765}. Best is trial#13 with value: 0.9666666666666667.\n",
            "[I 2020-07-26 17:57:21,722] Finished trial#43 with value: 0.9533333333333333 with parameters: {'n_estimators': 2, 'max_depth': 2.7749764341498953}. Best is trial#13 with value: 0.9666666666666667.\n",
            "[I 2020-07-26 17:57:21,913] Finished trial#44 with value: 0.9533333333333333 with parameters: {'n_estimators': 7, 'max_depth': 5.1035539177908396}. Best is trial#13 with value: 0.9666666666666667.\n",
            "[I 2020-07-26 17:57:22,101] Finished trial#45 with value: 0.96 with parameters: {'n_estimators': 6, 'max_depth': 3.769194935143596}. Best is trial#13 with value: 0.9666666666666667.\n",
            "[I 2020-07-26 17:57:22,322] Finished trial#46 with value: 0.9533333333333333 with parameters: {'n_estimators': 13, 'max_depth': 8.083645532729529}. Best is trial#13 with value: 0.9666666666666667.\n",
            "[I 2020-07-26 17:57:22,527] Finished trial#47 with value: 0.9533333333333333 with parameters: {'n_estimators': 10, 'max_depth': 1.3501988436816597}. Best is trial#13 with value: 0.9666666666666667.\n",
            "[I 2020-07-26 17:57:22,733] Finished trial#48 with value: 0.9733333333333333 with parameters: {'n_estimators': 9, 'max_depth': 5.554474318535066}. Best is trial#48 with value: 0.9733333333333333.\n",
            "[I 2020-07-26 17:57:22,945] Finished trial#49 with value: 0.9666666666666667 with parameters: {'n_estimators': 11, 'max_depth': 4.01752955008669}. Best is trial#48 with value: 0.9733333333333333.\n",
            "[I 2020-07-26 17:57:23,142] Finished trial#50 with value: 0.9533333333333333 with parameters: {'n_estimators': 8, 'max_depth': 5.529031160151623}. Best is trial#48 with value: 0.9733333333333333.\n",
            "[I 2020-07-26 17:57:23,345] Finished trial#51 with value: 0.9466666666666667 with parameters: {'n_estimators': 9, 'max_depth': 4.0660121666345015}. Best is trial#48 with value: 0.9733333333333333.\n",
            "[I 2020-07-26 17:57:23,538] Finished trial#52 with value: 0.9733333333333333 with parameters: {'n_estimators': 7, 'max_depth': 9.378424785578687}. Best is trial#48 with value: 0.9733333333333333.\n",
            "[I 2020-07-26 17:57:23,714] Finished trial#53 with value: 0.9533333333333333 with parameters: {'n_estimators': 9, 'max_depth': 9.56130674560699}. Best is trial#48 with value: 0.9733333333333333.\n",
            "[I 2020-07-26 17:57:23,868] Finished trial#54 with value: 0.9733333333333333 with parameters: {'n_estimators': 11, 'max_depth': 6.577062974280135}. Best is trial#48 with value: 0.9733333333333333.\n",
            "[I 2020-07-26 17:57:23,999] Finished trial#55 with value: 0.9466666666666667 with parameters: {'n_estimators': 3, 'max_depth': 2.3943738719980456}. Best is trial#48 with value: 0.9733333333333333.\n",
            "[I 2020-07-26 17:57:24,165] Finished trial#56 with value: 0.9666666666666667 with parameters: {'n_estimators': 12, 'max_depth': 6.5575080393988605}. Best is trial#48 with value: 0.9733333333333333.\n",
            "[I 2020-07-26 17:57:24,330] Finished trial#57 with value: 0.96 with parameters: {'n_estimators': 13, 'max_depth': 6.622237001914842}. Best is trial#48 with value: 0.9733333333333333.\n",
            "[I 2020-07-26 17:57:24,485] Finished trial#58 with value: 0.96 with parameters: {'n_estimators': 10, 'max_depth': 4.8468955051534905}. Best is trial#48 with value: 0.9733333333333333.\n",
            "[I 2020-07-26 17:57:24,702] Finished trial#59 with value: 0.9666666666666667 with parameters: {'n_estimators': 14, 'max_depth': 9.203517763996482}. Best is trial#48 with value: 0.9733333333333333.\n",
            "[I 2020-07-26 17:57:24,929] Finished trial#60 with value: 0.9466666666666667 with parameters: {'n_estimators': 14, 'max_depth': 9.445452030475902}. Best is trial#48 with value: 0.9733333333333333.\n",
            "[I 2020-07-26 17:57:25,168] Finished trial#61 with value: 0.96 with parameters: {'n_estimators': 12, 'max_depth': 5.602544694891779}. Best is trial#48 with value: 0.9733333333333333.\n",
            "[I 2020-07-26 17:57:25,400] Finished trial#62 with value: 0.9466666666666667 with parameters: {'n_estimators': 16, 'max_depth': 7.087142360910703}. Best is trial#48 with value: 0.9733333333333333.\n",
            "[I 2020-07-26 17:57:25,616] Finished trial#63 with value: 0.96 with parameters: {'n_estimators': 14, 'max_depth': 5.901608808251684}. Best is trial#48 with value: 0.9733333333333333.\n",
            "[I 2020-07-26 17:57:25,841] Finished trial#64 with value: 0.9666666666666667 with parameters: {'n_estimators': 15, 'max_depth': 7.96858550378608}. Best is trial#48 with value: 0.9733333333333333.\n",
            "[I 2020-07-26 17:57:26,088] Finished trial#65 with value: 0.9533333333333333 with parameters: {'n_estimators': 20, 'max_depth': 11.80573602794562}. Best is trial#48 with value: 0.9733333333333333.\n",
            "[I 2020-07-26 17:57:26,319] Finished trial#66 with value: 0.96 with parameters: {'n_estimators': 16, 'max_depth': 7.61086752737412}. Best is trial#48 with value: 0.9733333333333333.\n",
            "[I 2020-07-26 17:57:26,522] Finished trial#67 with value: 0.9466666666666667 with parameters: {'n_estimators': 8, 'max_depth': 15.410928389177693}. Best is trial#48 with value: 0.9733333333333333.\n",
            "[I 2020-07-26 17:57:26,715] Finished trial#68 with value: 0.7466666666666667 with parameters: {'n_estimators': 6, 'max_depth': 1.9272473971165998}. Best is trial#48 with value: 0.9733333333333333.\n",
            "[I 2020-07-26 17:57:26,922] Finished trial#69 with value: 0.96 with parameters: {'n_estimators': 11, 'max_depth': 3.641479977441929}. Best is trial#48 with value: 0.9733333333333333.\n",
            "[I 2020-07-26 17:57:27,136] Finished trial#70 with value: 0.9533333333333333 with parameters: {'n_estimators': 11, 'max_depth': 3.0571800433253093}. Best is trial#48 with value: 0.9733333333333333.\n",
            "[I 2020-07-26 17:57:27,341] Finished trial#71 with value: 0.96 with parameters: {'n_estimators': 10, 'max_depth': 8.926073403580599}. Best is trial#48 with value: 0.9733333333333333.\n",
            "[I 2020-07-26 17:57:27,544] Finished trial#72 with value: 0.9466666666666667 with parameters: {'n_estimators': 7, 'max_depth': 4.454417505040224}. Best is trial#48 with value: 0.9733333333333333.\n",
            "[I 2020-07-26 17:57:27,791] Finished trial#73 with value: 0.9533333333333333 with parameters: {'n_estimators': 12, 'max_depth': 6.436694390334009}. Best is trial#48 with value: 0.9733333333333333.\n",
            "[I 2020-07-26 17:57:28,008] Finished trial#74 with value: 0.9533333333333333 with parameters: {'n_estimators': 13, 'max_depth': 10.558485454973257}. Best is trial#48 with value: 0.9733333333333333.\n",
            "[I 2020-07-26 17:57:28,207] Finished trial#75 with value: 0.9466666666666667 with parameters: {'n_estimators': 8, 'max_depth': 5.263233103185202}. Best is trial#48 with value: 0.9733333333333333.\n",
            "[I 2020-07-26 17:57:28,437] Finished trial#76 with value: 0.9666666666666667 with parameters: {'n_estimators': 15, 'max_depth': 19.44668535448855}. Best is trial#48 with value: 0.9733333333333333.\n",
            "[I 2020-07-26 17:57:28,627] Finished trial#77 with value: 0.96 with parameters: {'n_estimators': 7, 'max_depth': 27.567299034243337}. Best is trial#48 with value: 0.9733333333333333.\n",
            "[I 2020-07-26 17:57:28,834] Finished trial#78 with value: 0.9733333333333333 with parameters: {'n_estimators': 9, 'max_depth': 22.622301871802197}. Best is trial#48 with value: 0.9733333333333333.\n",
            "[I 2020-07-26 17:57:29,020] Finished trial#79 with value: 0.9533333333333333 with parameters: {'n_estimators': 5, 'max_depth': 3.4665305150856893}. Best is trial#48 with value: 0.9733333333333333.\n",
            "[I 2020-07-26 17:57:29,239] Finished trial#80 with value: 0.9666666666666667 with parameters: {'n_estimators': 9, 'max_depth': 24.506728952761964}. Best is trial#48 with value: 0.9733333333333333.\n",
            "[I 2020-07-26 17:57:29,463] Finished trial#81 with value: 0.9466666666666667 with parameters: {'n_estimators': 15, 'max_depth': 8.482572371082137}. Best is trial#48 with value: 0.9733333333333333.\n",
            "[I 2020-07-26 17:57:29,663] Finished trial#82 with value: 0.9666666666666667 with parameters: {'n_estimators': 9, 'max_depth': 24.444619688553956}. Best is trial#48 with value: 0.9733333333333333.\n",
            "[I 2020-07-26 17:57:29,883] Finished trial#83 with value: 0.9533333333333333 with parameters: {'n_estimators': 10, 'max_depth': 4.181597196292204}. Best is trial#48 with value: 0.9733333333333333.\n",
            "[I 2020-07-26 17:57:30,106] Finished trial#84 with value: 0.9533333333333333 with parameters: {'n_estimators': 14, 'max_depth': 7.416313835624801}. Best is trial#48 with value: 0.9733333333333333.\n",
            "[I 2020-07-26 17:57:30,311] Finished trial#85 with value: 0.9533333333333333 with parameters: {'n_estimators': 8, 'max_depth': 6.046665027694043}. Best is trial#48 with value: 0.9733333333333333.\n",
            "[I 2020-07-26 17:57:30,503] Finished trial#86 with value: 0.9466666666666667 with parameters: {'n_estimators': 7, 'max_depth': 4.820613271101163}. Best is trial#48 with value: 0.9733333333333333.\n",
            "[I 2020-07-26 17:57:30,717] Finished trial#87 with value: 0.9666666666666667 with parameters: {'n_estimators': 13, 'max_depth': 8.311446601784057}. Best is trial#48 with value: 0.9733333333333333.\n",
            "[I 2020-07-26 17:57:30,938] Finished trial#88 with value: 0.9533333333333333 with parameters: {'n_estimators': 12, 'max_depth': 3.097452751540046}. Best is trial#48 with value: 0.9733333333333333.\n",
            "[I 2020-07-26 17:57:31,182] Finished trial#89 with value: 0.96 with parameters: {'n_estimators': 17, 'max_depth': 19.329073810647788}. Best is trial#48 with value: 0.9733333333333333.\n",
            "[I 2020-07-26 17:57:31,390] Finished trial#90 with value: 0.96 with parameters: {'n_estimators': 11, 'max_depth': 21.340079178501693}. Best is trial#48 with value: 0.9733333333333333.\n",
            "[I 2020-07-26 17:57:31,596] Finished trial#91 with value: 0.9466666666666667 with parameters: {'n_estimators': 10, 'max_depth': 14.457673302227208}. Best is trial#48 with value: 0.9733333333333333.\n",
            "[I 2020-07-26 17:57:31,771] Finished trial#92 with value: 0.96 with parameters: {'n_estimators': 11, 'max_depth': 17.969083611474375}. Best is trial#48 with value: 0.9733333333333333.\n",
            "[I 2020-07-26 17:57:31,953] Finished trial#93 with value: 0.9466666666666667 with parameters: {'n_estimators': 16, 'max_depth': 10.153743297548539}. Best is trial#48 with value: 0.9733333333333333.\n",
            "[I 2020-07-26 17:57:32,111] Finished trial#94 with value: 0.9533333333333333 with parameters: {'n_estimators': 9, 'max_depth': 24.185499447132035}. Best is trial#48 with value: 0.9733333333333333.\n",
            "[I 2020-07-26 17:57:32,264] Finished trial#95 with value: 0.96 with parameters: {'n_estimators': 9, 'max_depth': 23.511954339729545}. Best is trial#48 with value: 0.9733333333333333.\n",
            "[I 2020-07-26 17:57:32,405] Finished trial#96 with value: 0.9666666666666667 with parameters: {'n_estimators': 7, 'max_depth': 9.206331133770531}. Best is trial#48 with value: 0.9733333333333333.\n",
            "[I 2020-07-26 17:57:32,573] Finished trial#97 with value: 0.9666666666666667 with parameters: {'n_estimators': 15, 'max_depth': 29.36896339685388}. Best is trial#48 with value: 0.9733333333333333.\n",
            "[I 2020-07-26 17:57:32,702] Finished trial#98 with value: 0.9533333333333333 with parameters: {'n_estimators': 3, 'max_depth': 7.097155715244466}. Best is trial#48 with value: 0.9733333333333333.\n",
            "[I 2020-07-26 17:57:32,884] Finished trial#99 with value: 0.96 with parameters: {'n_estimators': 18, 'max_depth': 31.213636599693622}. Best is trial#48 with value: 0.9733333333333333.\n"
          ],
          "name": "stderr"
        },
        {
          "output_type": "stream",
          "text": [
            "Accuracy: 0.9733333333333333\n",
            "Best hyperparameters: {'n_estimators': 9, 'max_depth': 5.554474318535066}\n"
          ],
          "name": "stdout"
        }
      ]
    },
    {
      "cell_type": "markdown",
      "metadata": {
        "id": "vSlkPSYrQzmW",
        "colab_type": "text"
      },
      "source": [
        "It is possible to condition hyperparameters using Python `if` statements. We can for instance include another classifier, a support vector machine, in our HPO and define hyperparameters specific to the random forest model and the support vector machine."
      ]
    },
    {
      "cell_type": "code",
      "metadata": {
        "id": "D7FXk73VQzmX",
        "colab_type": "code",
        "colab": {
          "base_uri": "https://localhost:8080/",
          "height": 1000
        },
        "outputId": "4b8cc736-47b5-40e9-bc7c-a0f8d61b0cd0"
      },
      "source": [
        "import sklearn.svm\n",
        "\n",
        "def objective(trial):\n",
        "    iris = sklearn.datasets.load_iris()\n",
        "\n",
        "    classifier = trial.suggest_categorical('classifier', ['RandomForest', 'SVC'])\n",
        "    \n",
        "    if classifier == 'RandomForest':\n",
        "        n_estimators = trial.suggest_int('n_estimators', 2, 20)\n",
        "        max_depth = int(trial.suggest_float('max_depth', 1, 32, log=True))\n",
        "\n",
        "        clf = sklearn.ensemble.RandomForestClassifier(\n",
        "            n_estimators=n_estimators, max_depth=max_depth)\n",
        "    else:\n",
        "        c = trial.suggest_float('svc_c', 1e-10, 1e10, log=True)\n",
        "        \n",
        "        clf = sklearn.svm.SVC(C=c, gamma='auto')\n",
        "\n",
        "    return sklearn.model_selection.cross_val_score(\n",
        "        clf, iris.data, iris.target, n_jobs=-1, cv=3).mean()\n",
        "\n",
        "study = optuna.create_study(direction='maximize')\n",
        "study.optimize(objective, n_trials=100)\n",
        "\n",
        "trial = study.best_trial\n",
        "\n",
        "print('Accuracy: {}'.format(trial.value))\n",
        "print(\"Best hyperparameters: {}\".format(trial.params))"
      ],
      "execution_count": 5,
      "outputs": [
        {
          "output_type": "stream",
          "text": [
            "[I 2020-07-26 17:57:46,627] Finished trial#0 with value: 0.32 with parameters: {'classifier': 'SVC', 'svc_c': 1.6086246778500126e-06}. Best is trial#0 with value: 0.32.\n",
            "[I 2020-07-26 17:57:46,787] Finished trial#1 with value: 0.96 with parameters: {'classifier': 'SVC', 'svc_c': 0.3586156212218282}. Best is trial#1 with value: 0.96.\n",
            "[I 2020-07-26 17:57:47,010] Finished trial#2 with value: 0.8466666666666667 with parameters: {'classifier': 'RandomForest', 'n_estimators': 14, 'max_depth': 1.9660456944915936}. Best is trial#1 with value: 0.96.\n",
            "[I 2020-07-26 17:57:47,175] Finished trial#3 with value: 0.96 with parameters: {'classifier': 'SVC', 'svc_c': 59.077355701918}. Best is trial#1 with value: 0.96.\n",
            "[I 2020-07-26 17:57:47,385] Finished trial#4 with value: 0.9533333333333333 with parameters: {'classifier': 'RandomForest', 'n_estimators': 8, 'max_depth': 2.584188351905201}. Best is trial#1 with value: 0.96.\n",
            "[I 2020-07-26 17:57:47,555] Finished trial#5 with value: 0.32 with parameters: {'classifier': 'SVC', 'svc_c': 4.147081667514694e-10}. Best is trial#1 with value: 0.96.\n",
            "[I 2020-07-26 17:57:47,751] Finished trial#6 with value: 0.96 with parameters: {'classifier': 'RandomForest', 'n_estimators': 7, 'max_depth': 18.066539197554178}. Best is trial#1 with value: 0.96.\n",
            "[I 2020-07-26 17:57:47,969] Finished trial#7 with value: 0.9666666666666667 with parameters: {'classifier': 'RandomForest', 'n_estimators': 14, 'max_depth': 4.70974563063755}. Best is trial#7 with value: 0.9666666666666667.\n",
            "[I 2020-07-26 17:57:48,138] Finished trial#8 with value: 0.32 with parameters: {'classifier': 'SVC', 'svc_c': 1.7716946350611596e-06}. Best is trial#7 with value: 0.9666666666666667.\n",
            "[I 2020-07-26 17:57:48,315] Finished trial#9 with value: 0.9666666666666667 with parameters: {'classifier': 'RandomForest', 'n_estimators': 3, 'max_depth': 2.6736802199199197}. Best is trial#7 with value: 0.9666666666666667.\n",
            "[I 2020-07-26 17:57:48,554] Finished trial#10 with value: 0.9666666666666667 with parameters: {'classifier': 'RandomForest', 'n_estimators': 20, 'max_depth': 8.672440833362012}. Best is trial#7 with value: 0.9666666666666667.\n",
            "[I 2020-07-26 17:57:48,746] Finished trial#11 with value: 0.9533333333333333 with parameters: {'classifier': 'RandomForest', 'n_estimators': 2, 'max_depth': 4.095315209069329}. Best is trial#7 with value: 0.9666666666666667.\n",
            "[I 2020-07-26 17:57:48,972] Finished trial#12 with value: 0.9333333333333332 with parameters: {'classifier': 'RandomForest', 'n_estimators': 15, 'max_depth': 1.1207724595094366}. Best is trial#7 with value: 0.9666666666666667.\n",
            "[I 2020-07-26 17:57:49,155] Finished trial#13 with value: 0.9333333333333332 with parameters: {'classifier': 'RandomForest', 'n_estimators': 2, 'max_depth': 8.322899472826473}. Best is trial#7 with value: 0.9666666666666667.\n",
            "[I 2020-07-26 17:57:49,389] Finished trial#14 with value: 0.9533333333333333 with parameters: {'classifier': 'RandomForest', 'n_estimators': 18, 'max_depth': 4.040337316328708}. Best is trial#7 with value: 0.9666666666666667.\n",
            "[I 2020-07-26 17:57:49,601] Finished trial#15 with value: 0.7933333333333334 with parameters: {'classifier': 'RandomForest', 'n_estimators': 11, 'max_depth': 1.37772312818475}. Best is trial#7 with value: 0.9666666666666667.\n",
            "[I 2020-07-26 17:57:49,791] Finished trial#16 with value: 0.9466666666666667 with parameters: {'classifier': 'RandomForest', 'n_estimators': 6, 'max_depth': 6.865467586748677}. Best is trial#7 with value: 0.9666666666666667.\n",
            "[I 2020-07-26 17:57:50,008] Finished trial#17 with value: 0.9466666666666667 with parameters: {'classifier': 'RandomForest', 'n_estimators': 13, 'max_depth': 14.577291975627006}. Best is trial#7 with value: 0.9666666666666667.\n",
            "[I 2020-07-26 17:57:50,245] Finished trial#18 with value: 0.9533333333333333 with parameters: {'classifier': 'RandomForest', 'n_estimators': 17, 'max_depth': 2.882849689255297}. Best is trial#7 with value: 0.9666666666666667.\n",
            "[I 2020-07-26 17:57:50,429] Finished trial#19 with value: 0.94 with parameters: {'classifier': 'RandomForest', 'n_estimators': 4, 'max_depth': 10.583753898294175}. Best is trial#7 with value: 0.9666666666666667.\n",
            "[I 2020-07-26 17:57:50,638] Finished trial#20 with value: 0.96 with parameters: {'classifier': 'RandomForest', 'n_estimators': 10, 'max_depth': 4.605226873032266}. Best is trial#7 with value: 0.9666666666666667.\n",
            "[I 2020-07-26 17:57:50,874] Finished trial#21 with value: 0.96 with parameters: {'classifier': 'RandomForest', 'n_estimators': 19, 'max_depth': 5.580367227810661}. Best is trial#7 with value: 0.9666666666666667.\n",
            "[I 2020-07-26 17:57:51,119] Finished trial#22 with value: 0.9533333333333333 with parameters: {'classifier': 'RandomForest', 'n_estimators': 20, 'max_depth': 26.438515732104534}. Best is trial#7 with value: 0.9666666666666667.\n",
            "[I 2020-07-26 17:57:51,351] Finished trial#23 with value: 0.94 with parameters: {'classifier': 'RandomForest', 'n_estimators': 16, 'max_depth': 2.798621731998245}. Best is trial#7 with value: 0.9666666666666667.\n",
            "[I 2020-07-26 17:57:51,564] Finished trial#24 with value: 0.9466666666666667 with parameters: {'classifier': 'RandomForest', 'n_estimators': 12, 'max_depth': 10.20462643374787}. Best is trial#7 with value: 0.9666666666666667.\n",
            "[I 2020-07-26 17:57:51,809] Finished trial#25 with value: 0.96 with parameters: {'classifier': 'RandomForest', 'n_estimators': 20, 'max_depth': 1.8205291255108562}. Best is trial#7 with value: 0.9666666666666667.\n",
            "[I 2020-07-26 17:57:52,011] Finished trial#26 with value: 0.9466666666666667 with parameters: {'classifier': 'RandomForest', 'n_estimators': 9, 'max_depth': 6.391196939938895}. Best is trial#7 with value: 0.9666666666666667.\n",
            "[I 2020-07-26 17:57:52,250] Finished trial#27 with value: 0.96 with parameters: {'classifier': 'RandomForest', 'n_estimators': 16, 'max_depth': 3.4279073471829045}. Best is trial#7 with value: 0.9666666666666667.\n",
            "[I 2020-07-26 17:57:52,440] Finished trial#28 with value: 0.9533333333333333 with parameters: {'classifier': 'RandomForest', 'n_estimators': 5, 'max_depth': 13.70507286639301}. Best is trial#7 with value: 0.9666666666666667.\n",
            "[I 2020-07-26 17:57:52,610] Finished trial#29 with value: 0.96 with parameters: {'classifier': 'SVC', 'svc_c': 1284914478.4499218}. Best is trial#7 with value: 0.9666666666666667.\n",
            "[I 2020-07-26 17:57:52,825] Finished trial#30 with value: 0.96 with parameters: {'classifier': 'RandomForest', 'n_estimators': 13, 'max_depth': 5.328381695213668}. Best is trial#7 with value: 0.9666666666666667.\n",
            "[I 2020-07-26 17:57:53,065] Finished trial#31 with value: 0.96 with parameters: {'classifier': 'RandomForest', 'n_estimators': 19, 'max_depth': 7.633224532799218}. Best is trial#7 with value: 0.9666666666666667.\n",
            "[I 2020-07-26 17:57:53,309] Finished trial#32 with value: 0.9533333333333333 with parameters: {'classifier': 'RandomForest', 'n_estimators': 18, 'max_depth': 7.7795434107073}. Best is trial#7 with value: 0.9666666666666667.\n",
            "[I 2020-07-26 17:57:53,558] Finished trial#33 with value: 0.96 with parameters: {'classifier': 'RandomForest', 'n_estimators': 20, 'max_depth': 9.506882759592491}. Best is trial#7 with value: 0.9666666666666667.\n",
            "[I 2020-07-26 17:57:53,804] Finished trial#34 with value: 0.9466666666666667 with parameters: {'classifier': 'RandomForest', 'n_estimators': 20, 'max_depth': 10.521144032513433}. Best is trial#7 with value: 0.9666666666666667.\n",
            "[I 2020-07-26 17:57:53,979] Finished trial#35 with value: 0.96 with parameters: {'classifier': 'SVC', 'svc_c': 17785327.868824866}. Best is trial#7 with value: 0.9666666666666667.\n",
            "[I 2020-07-26 17:57:54,151] Finished trial#36 with value: 0.96 with parameters: {'classifier': 'SVC', 'svc_c': 1672704625.3439283}. Best is trial#7 with value: 0.9666666666666667.\n",
            "[I 2020-07-26 17:57:54,387] Finished trial#37 with value: 0.9666666666666667 with parameters: {'classifier': 'RandomForest', 'n_estimators': 18, 'max_depth': 5.310999667769639}. Best is trial#7 with value: 0.9666666666666667.\n",
            "[I 2020-07-26 17:57:54,605] Finished trial#38 with value: 0.94 with parameters: {'classifier': 'RandomForest', 'n_estimators': 14, 'max_depth': 2.032066887437598}. Best is trial#7 with value: 0.9666666666666667.\n",
            "[I 2020-07-26 17:57:54,796] Finished trial#39 with value: 0.9666666666666667 with parameters: {'classifier': 'RandomForest', 'n_estimators': 15, 'max_depth': 4.721851385891314}. Best is trial#7 with value: 0.9666666666666667.\n",
            "[I 2020-07-26 17:57:54,963] Finished trial#40 with value: 0.9533333333333333 with parameters: {'classifier': 'RandomForest', 'n_estimators': 15, 'max_depth': 2.025267502049802}. Best is trial#7 with value: 0.9666666666666667.\n",
            "[I 2020-07-26 17:57:55,150] Finished trial#41 with value: 0.96 with parameters: {'classifier': 'RandomForest', 'n_estimators': 17, 'max_depth': 3.450612803123719}. Best is trial#7 with value: 0.9666666666666667.\n",
            "[I 2020-07-26 17:57:55,320] Finished trial#42 with value: 0.9666666666666667 with parameters: {'classifier': 'RandomForest', 'n_estimators': 14, 'max_depth': 5.173470702108481}. Best is trial#7 with value: 0.9666666666666667.\n",
            "[I 2020-07-26 17:57:55,488] Finished trial#43 with value: 0.9533333333333333 with parameters: {'classifier': 'RandomForest', 'n_estimators': 14, 'max_depth': 4.885454664579712}. Best is trial#7 with value: 0.9666666666666667.\n",
            "[I 2020-07-26 17:57:55,663] Finished trial#44 with value: 0.9533333333333333 with parameters: {'classifier': 'RandomForest', 'n_estimators': 16, 'max_depth': 3.563931421035535}. Best is trial#7 with value: 0.9666666666666667.\n",
            "[I 2020-07-26 17:57:55,819] Finished trial#45 with value: 0.96 with parameters: {'classifier': 'RandomForest', 'n_estimators': 12, 'max_depth': 2.342309147063078}. Best is trial#7 with value: 0.9666666666666667.\n",
            "[I 2020-07-26 17:57:56,009] Finished trial#46 with value: 0.96 with parameters: {'classifier': 'RandomForest', 'n_estimators': 18, 'max_depth': 6.317187370225169}. Best is trial#7 with value: 0.9666666666666667.\n",
            "[I 2020-07-26 17:57:56,130] Finished trial#47 with value: 0.96 with parameters: {'classifier': 'SVC', 'svc_c': 9002.811363853252}. Best is trial#7 with value: 0.9666666666666667.\n",
            "[I 2020-07-26 17:57:56,279] Finished trial#48 with value: 0.9466666666666667 with parameters: {'classifier': 'RandomForest', 'n_estimators': 8, 'max_depth': 4.103344074033625}. Best is trial#7 with value: 0.9666666666666667.\n",
            "[I 2020-07-26 17:57:56,459] Finished trial#49 with value: 0.9533333333333333 with parameters: {'classifier': 'RandomForest', 'n_estimators': 15, 'max_depth': 1.3526731541417072}. Best is trial#7 with value: 0.9666666666666667.\n",
            "[I 2020-07-26 17:57:56,634] Finished trial#50 with value: 0.96 with parameters: {'classifier': 'RandomForest', 'n_estimators': 17, 'max_depth': 4.162246728001973}. Best is trial#7 with value: 0.9666666666666667.\n",
            "[I 2020-07-26 17:57:56,795] Finished trial#51 with value: 0.9466666666666667 with parameters: {'classifier': 'RandomForest', 'n_estimators': 14, 'max_depth': 5.409285448161118}. Best is trial#7 with value: 0.9666666666666667.\n",
            "[I 2020-07-26 17:57:56,953] Finished trial#52 with value: 0.9666666666666667 with parameters: {'classifier': 'RandomForest', 'n_estimators': 12, 'max_depth': 6.611256914158104}. Best is trial#7 with value: 0.9666666666666667.\n",
            "[I 2020-07-26 17:57:57,112] Finished trial#53 with value: 0.96 with parameters: {'classifier': 'RandomForest', 'n_estimators': 11, 'max_depth': 6.931255409484731}. Best is trial#7 with value: 0.9666666666666667.\n",
            "[I 2020-07-26 17:57:57,275] Finished trial#54 with value: 0.9533333333333333 with parameters: {'classifier': 'RandomForest', 'n_estimators': 12, 'max_depth': 8.886281227679168}. Best is trial#7 with value: 0.9666666666666667.\n",
            "[I 2020-07-26 17:57:57,409] Finished trial#55 with value: 0.96 with parameters: {'classifier': 'RandomForest', 'n_estimators': 3, 'max_depth': 11.79788999164403}. Best is trial#7 with value: 0.9666666666666667.\n",
            "[I 2020-07-26 17:57:57,570] Finished trial#56 with value: 0.9666666666666667 with parameters: {'classifier': 'RandomForest', 'n_estimators': 10, 'max_depth': 6.002010711603384}. Best is trial#7 with value: 0.9666666666666667.\n",
            "[I 2020-07-26 17:57:57,720] Finished trial#57 with value: 0.9533333333333333 with parameters: {'classifier': 'RandomForest', 'n_estimators': 7, 'max_depth': 4.419175794424924}. Best is trial#7 with value: 0.9666666666666667.\n",
            "[I 2020-07-26 17:57:57,890] Finished trial#58 with value: 0.96 with parameters: {'classifier': 'RandomForest', 'n_estimators': 13, 'max_depth': 3.095219161827854}. Best is trial#7 with value: 0.9666666666666667.\n",
            "[I 2020-07-26 17:57:58,079] Finished trial#59 with value: 0.96 with parameters: {'classifier': 'RandomForest', 'n_estimators': 19, 'max_depth': 18.13978998344046}. Best is trial#7 with value: 0.9666666666666667.\n",
            "[I 2020-07-26 17:57:58,245] Finished trial#60 with value: 0.9466666666666667 with parameters: {'classifier': 'RandomForest', 'n_estimators': 10, 'max_depth': 6.421712545634927}. Best is trial#7 with value: 0.9666666666666667.\n",
            "[I 2020-07-26 17:57:58,411] Finished trial#61 with value: 0.9666666666666667 with parameters: {'classifier': 'RandomForest', 'n_estimators': 13, 'max_depth': 5.046631585516952}. Best is trial#7 with value: 0.9666666666666667.\n",
            "[I 2020-07-26 17:57:58,564] Finished trial#62 with value: 0.96 with parameters: {'classifier': 'RandomForest', 'n_estimators': 10, 'max_depth': 7.552069420971851}. Best is trial#7 with value: 0.9666666666666667.\n",
            "[I 2020-07-26 17:57:58,723] Finished trial#63 with value: 0.9666666666666667 with parameters: {'classifier': 'RandomForest', 'n_estimators': 12, 'max_depth': 5.8627983326741955}. Best is trial#7 with value: 0.9666666666666667.\n",
            "[I 2020-07-26 17:57:58,927] Finished trial#64 with value: 0.96 with parameters: {'classifier': 'RandomForest', 'n_estimators': 12, 'max_depth': 8.900111919759393}. Best is trial#7 with value: 0.9666666666666667.\n",
            "[I 2020-07-26 17:57:59,155] Finished trial#65 with value: 0.9666666666666667 with parameters: {'classifier': 'RandomForest', 'n_estimators': 11, 'max_depth': 5.835775184081581}. Best is trial#7 with value: 0.9666666666666667.\n",
            "[I 2020-07-26 17:57:59,374] Finished trial#66 with value: 0.9533333333333333 with parameters: {'classifier': 'RandomForest', 'n_estimators': 9, 'max_depth': 5.799030855379592}. Best is trial#7 with value: 0.9666666666666667.\n",
            "[I 2020-07-26 17:57:59,589] Finished trial#67 with value: 0.9466666666666667 with parameters: {'classifier': 'RandomForest', 'n_estimators': 13, 'max_depth': 3.6821117257547913}. Best is trial#7 with value: 0.9666666666666667.\n",
            "[I 2020-07-26 17:57:59,820] Finished trial#68 with value: 0.96 with parameters: {'classifier': 'RandomForest', 'n_estimators': 15, 'max_depth': 4.732090930058994}. Best is trial#7 with value: 0.9666666666666667.\n",
            "[I 2020-07-26 17:57:59,988] Finished trial#69 with value: 0.32 with parameters: {'classifier': 'SVC', 'svc_c': 0.0002929306484215907}. Best is trial#7 with value: 0.9666666666666667.\n",
            "[I 2020-07-26 17:58:00,216] Finished trial#70 with value: 0.96 with parameters: {'classifier': 'RandomForest', 'n_estimators': 11, 'max_depth': 4.769702047106393}. Best is trial#7 with value: 0.9666666666666667.\n",
            "[I 2020-07-26 17:58:00,417] Finished trial#71 with value: 0.96 with parameters: {'classifier': 'RandomForest', 'n_estimators': 9, 'max_depth': 5.78808751959901}. Best is trial#7 with value: 0.9666666666666667.\n",
            "[I 2020-07-26 17:58:00,635] Finished trial#72 with value: 0.9533333333333333 with parameters: {'classifier': 'RandomForest', 'n_estimators': 11, 'max_depth': 5.276430297609882}. Best is trial#7 with value: 0.9666666666666667.\n",
            "[I 2020-07-26 17:58:00,852] Finished trial#73 with value: 0.9466666666666667 with parameters: {'classifier': 'RandomForest', 'n_estimators': 13, 'max_depth': 6.257168071450484}. Best is trial#7 with value: 0.9666666666666667.\n",
            "[I 2020-07-26 17:58:01,064] Finished trial#74 with value: 0.96 with parameters: {'classifier': 'RandomForest', 'n_estimators': 12, 'max_depth': 7.097022679259553}. Best is trial#7 with value: 0.9666666666666667.\n",
            "[I 2020-07-26 17:58:01,295] Finished trial#75 with value: 0.9666666666666667 with parameters: {'classifier': 'RandomForest', 'n_estimators': 14, 'max_depth': 8.374540218954417}. Best is trial#7 with value: 0.9666666666666667.\n",
            "[I 2020-07-26 17:58:01,497] Finished trial#76 with value: 0.96 with parameters: {'classifier': 'RandomForest', 'n_estimators': 10, 'max_depth': 5.063303965559359}. Best is trial#7 with value: 0.9666666666666667.\n",
            "[I 2020-07-26 17:58:01,716] Finished trial#77 with value: 0.9666666666666667 with parameters: {'classifier': 'RandomForest', 'n_estimators': 15, 'max_depth': 12.54536761259946}. Best is trial#7 with value: 0.9666666666666667.\n",
            "[I 2020-07-26 17:58:01,940] Finished trial#78 with value: 0.96 with parameters: {'classifier': 'RandomForest', 'n_estimators': 16, 'max_depth': 12.542602283660337}. Best is trial#7 with value: 0.9666666666666667.\n",
            "[I 2020-07-26 17:58:02,119] Finished trial#79 with value: 0.9333333333333332 with parameters: {'classifier': 'RandomForest', 'n_estimators': 2, 'max_depth': 2.4011891966102814}. Best is trial#7 with value: 0.9666666666666667.\n",
            "[I 2020-07-26 17:58:02,350] Finished trial#80 with value: 0.96 with parameters: {'classifier': 'RandomForest', 'n_estimators': 14, 'max_depth': 8.643594046396544}. Best is trial#7 with value: 0.9666666666666667.\n",
            "[I 2020-07-26 17:58:02,538] Finished trial#81 with value: 0.96 with parameters: {'classifier': 'RandomForest', 'n_estimators': 5, 'max_depth': 7.7145234012294726}. Best is trial#7 with value: 0.9666666666666667.\n",
            "[I 2020-07-26 17:58:02,728] Finished trial#82 with value: 0.9466666666666667 with parameters: {'classifier': 'RandomForest', 'n_estimators': 15, 'max_depth': 16.16970222392525}. Best is trial#7 with value: 0.9666666666666667.\n",
            "[I 2020-07-26 17:58:02,910] Finished trial#83 with value: 0.96 with parameters: {'classifier': 'RandomForest', 'n_estimators': 18, 'max_depth': 9.817058793348961}. Best is trial#7 with value: 0.9666666666666667.\n",
            "[I 2020-07-26 17:58:03,075] Finished trial#84 with value: 0.9533333333333333 with parameters: {'classifier': 'RandomForest', 'n_estimators': 13, 'max_depth': 11.661338271943674}. Best is trial#7 with value: 0.9666666666666667.\n",
            "[I 2020-07-26 17:58:03,246] Finished trial#85 with value: 0.9466666666666667 with parameters: {'classifier': 'RandomForest', 'n_estimators': 11, 'max_depth': 6.277028952017253}. Best is trial#7 with value: 0.9666666666666667.\n",
            "[I 2020-07-26 17:58:03,416] Finished trial#86 with value: 0.9533333333333333 with parameters: {'classifier': 'RandomForest', 'n_estimators': 14, 'max_depth': 8.106192468855406}. Best is trial#7 with value: 0.9666666666666667.\n",
            "[I 2020-07-26 17:58:03,577] Finished trial#87 with value: 0.9533333333333333 with parameters: {'classifier': 'RandomForest', 'n_estimators': 12, 'max_depth': 6.953246487948035}. Best is trial#7 with value: 0.9666666666666667.\n",
            "[I 2020-07-26 17:58:03,758] Finished trial#88 with value: 0.8466666666666667 with parameters: {'classifier': 'RandomForest', 'n_estimators': 19, 'max_depth': 1.6274190027169704}. Best is trial#7 with value: 0.9666666666666667.\n",
            "[I 2020-07-26 17:58:03,874] Finished trial#89 with value: 0.32 with parameters: {'classifier': 'SVC', 'svc_c': 2.5436760011149793e-10}. Best is trial#7 with value: 0.9666666666666667.\n",
            "[I 2020-07-26 17:58:04,028] Finished trial#90 with value: 0.9666666666666667 with parameters: {'classifier': 'RandomForest', 'n_estimators': 10, 'max_depth': 5.554512189399322}. Best is trial#7 with value: 0.9666666666666667.\n",
            "[I 2020-07-26 17:58:04,183] Finished trial#91 with value: 0.9533333333333333 with parameters: {'classifier': 'RandomForest', 'n_estimators': 9, 'max_depth': 4.32240406754962}. Best is trial#7 with value: 0.9666666666666667.\n",
            "[I 2020-07-26 17:58:04,358] Finished trial#92 with value: 0.9666666666666667 with parameters: {'classifier': 'RandomForest', 'n_estimators': 14, 'max_depth': 3.2181975627782293}. Best is trial#7 with value: 0.9666666666666667.\n",
            "[I 2020-07-26 17:58:04,520] Finished trial#93 with value: 0.96 with parameters: {'classifier': 'RandomForest', 'n_estimators': 12, 'max_depth': 2.728408791377431}. Best is trial#7 with value: 0.9666666666666667.\n",
            "[I 2020-07-26 17:58:04,682] Finished trial#94 with value: 0.9666666666666667 with parameters: {'classifier': 'RandomForest', 'n_estimators': 13, 'max_depth': 5.900373719327792}. Best is trial#7 with value: 0.9666666666666667.\n",
            "[I 2020-07-26 17:58:04,849] Finished trial#95 with value: 0.9533333333333333 with parameters: {'classifier': 'RandomForest', 'n_estimators': 13, 'max_depth': 5.931945290871352}. Best is trial#7 with value: 0.9666666666666667.\n",
            "[I 2020-07-26 17:58:05,011] Finished trial#96 with value: 0.9666666666666667 with parameters: {'classifier': 'RandomForest', 'n_estimators': 13, 'max_depth': 3.8034621040769685}. Best is trial#7 with value: 0.9666666666666667.\n",
            "[I 2020-07-26 17:58:05,165] Finished trial#97 with value: 0.9666666666666667 with parameters: {'classifier': 'RandomForest', 'n_estimators': 8, 'max_depth': 3.8028741609653367}. Best is trial#7 with value: 0.9666666666666667.\n",
            "[I 2020-07-26 17:58:05,319] Finished trial#98 with value: 0.96 with parameters: {'classifier': 'RandomForest', 'n_estimators': 8, 'max_depth': 3.854093169745186}. Best is trial#7 with value: 0.9666666666666667.\n",
            "[I 2020-07-26 17:58:05,488] Finished trial#99 with value: 0.96 with parameters: {'classifier': 'RandomForest', 'n_estimators': 15, 'max_depth': 3.1251399872277172}. Best is trial#7 with value: 0.9666666666666667.\n"
          ],
          "name": "stderr"
        },
        {
          "output_type": "stream",
          "text": [
            "Accuracy: 0.9666666666666667\n",
            "Best hyperparameters: {'classifier': 'RandomForest', 'n_estimators': 14, 'max_depth': 4.70974563063755}\n"
          ],
          "name": "stdout"
        }
      ]
    },
    {
      "cell_type": "markdown",
      "metadata": {
        "id": "w6NbDRIoQzmZ",
        "colab_type": "text"
      },
      "source": [
        "### Plotting the study\n",
        "\n",
        "Plotting the optimization history of the study."
      ]
    },
    {
      "cell_type": "code",
      "metadata": {
        "id": "_3N_RPN8Qzma",
        "colab_type": "code",
        "colab": {
          "base_uri": "https://localhost:8080/",
          "height": 542
        },
        "outputId": "ca8ab89a-b83f-45d4-81da-d042b69d3291"
      },
      "source": [
        "optuna.visualization.plot_optimization_history(study)"
      ],
      "execution_count": 6,
      "outputs": [
        {
          "output_type": "display_data",
          "data": {
            "text/html": [
              "<html>\n",
              "<head><meta charset=\"utf-8\" /></head>\n",
              "<body>\n",
              "    <div>\n",
              "            <script src=\"https://cdnjs.cloudflare.com/ajax/libs/mathjax/2.7.5/MathJax.js?config=TeX-AMS-MML_SVG\"></script><script type=\"text/javascript\">if (window.MathJax) {MathJax.Hub.Config({SVG: {font: \"STIX-Web\"}});}</script>\n",
              "                <script type=\"text/javascript\">window.PlotlyConfig = {MathJaxConfig: 'local'};</script>\n",
              "        <script src=\"https://cdn.plot.ly/plotly-latest.min.js\"></script>    \n",
              "            <div id=\"b63daa2c-d84d-42ec-a53d-a52f6ac9f82c\" class=\"plotly-graph-div\" style=\"height:525px; width:100%;\"></div>\n",
              "            <script type=\"text/javascript\">\n",
              "                \n",
              "                    window.PLOTLYENV=window.PLOTLYENV || {};\n",
              "                    \n",
              "                if (document.getElementById(\"b63daa2c-d84d-42ec-a53d-a52f6ac9f82c\")) {\n",
              "                    Plotly.newPlot(\n",
              "                        'b63daa2c-d84d-42ec-a53d-a52f6ac9f82c',\n",
              "                        [{\"mode\": \"markers\", \"name\": \"Objective Value\", \"type\": \"scatter\", \"x\": [0, 1, 2, 3, 4, 5, 6, 7, 8, 9, 10, 11, 12, 13, 14, 15, 16, 17, 18, 19, 20, 21, 22, 23, 24, 25, 26, 27, 28, 29, 30, 31, 32, 33, 34, 35, 36, 37, 38, 39, 40, 41, 42, 43, 44, 45, 46, 47, 48, 49, 50, 51, 52, 53, 54, 55, 56, 57, 58, 59, 60, 61, 62, 63, 64, 65, 66, 67, 68, 69, 70, 71, 72, 73, 74, 75, 76, 77, 78, 79, 80, 81, 82, 83, 84, 85, 86, 87, 88, 89, 90, 91, 92, 93, 94, 95, 96, 97, 98, 99], \"y\": [0.32, 0.96, 0.8466666666666667, 0.96, 0.9533333333333333, 0.32, 0.96, 0.9666666666666667, 0.32, 0.9666666666666667, 0.9666666666666667, 0.9533333333333333, 0.9333333333333332, 0.9333333333333332, 0.9533333333333333, 0.7933333333333334, 0.9466666666666667, 0.9466666666666667, 0.9533333333333333, 0.94, 0.96, 0.96, 0.9533333333333333, 0.94, 0.9466666666666667, 0.96, 0.9466666666666667, 0.96, 0.9533333333333333, 0.96, 0.96, 0.96, 0.9533333333333333, 0.96, 0.9466666666666667, 0.96, 0.96, 0.9666666666666667, 0.94, 0.9666666666666667, 0.9533333333333333, 0.96, 0.9666666666666667, 0.9533333333333333, 0.9533333333333333, 0.96, 0.96, 0.96, 0.9466666666666667, 0.9533333333333333, 0.96, 0.9466666666666667, 0.9666666666666667, 0.96, 0.9533333333333333, 0.96, 0.9666666666666667, 0.9533333333333333, 0.96, 0.96, 0.9466666666666667, 0.9666666666666667, 0.96, 0.9666666666666667, 0.96, 0.9666666666666667, 0.9533333333333333, 0.9466666666666667, 0.96, 0.32, 0.96, 0.96, 0.9533333333333333, 0.9466666666666667, 0.96, 0.9666666666666667, 0.96, 0.9666666666666667, 0.96, 0.9333333333333332, 0.96, 0.96, 0.9466666666666667, 0.96, 0.9533333333333333, 0.9466666666666667, 0.9533333333333333, 0.9533333333333333, 0.8466666666666667, 0.32, 0.9666666666666667, 0.9533333333333333, 0.9666666666666667, 0.96, 0.9666666666666667, 0.9533333333333333, 0.9666666666666667, 0.9666666666666667, 0.96, 0.96]}, {\"name\": \"Best Value\", \"type\": \"scatter\", \"x\": [0, 1, 2, 3, 4, 5, 6, 7, 8, 9, 10, 11, 12, 13, 14, 15, 16, 17, 18, 19, 20, 21, 22, 23, 24, 25, 26, 27, 28, 29, 30, 31, 32, 33, 34, 35, 36, 37, 38, 39, 40, 41, 42, 43, 44, 45, 46, 47, 48, 49, 50, 51, 52, 53, 54, 55, 56, 57, 58, 59, 60, 61, 62, 63, 64, 65, 66, 67, 68, 69, 70, 71, 72, 73, 74, 75, 76, 77, 78, 79, 80, 81, 82, 83, 84, 85, 86, 87, 88, 89, 90, 91, 92, 93, 94, 95, 96, 97, 98, 99], \"y\": [0.32, 0.96, 0.96, 0.96, 0.96, 0.96, 0.96, 0.9666666666666667, 0.9666666666666667, 0.9666666666666667, 0.9666666666666667, 0.9666666666666667, 0.9666666666666667, 0.9666666666666667, 0.9666666666666667, 0.9666666666666667, 0.9666666666666667, 0.9666666666666667, 0.9666666666666667, 0.9666666666666667, 0.9666666666666667, 0.9666666666666667, 0.9666666666666667, 0.9666666666666667, 0.9666666666666667, 0.9666666666666667, 0.9666666666666667, 0.9666666666666667, 0.9666666666666667, 0.9666666666666667, 0.9666666666666667, 0.9666666666666667, 0.9666666666666667, 0.9666666666666667, 0.9666666666666667, 0.9666666666666667, 0.9666666666666667, 0.9666666666666667, 0.9666666666666667, 0.9666666666666667, 0.9666666666666667, 0.9666666666666667, 0.9666666666666667, 0.9666666666666667, 0.9666666666666667, 0.9666666666666667, 0.9666666666666667, 0.9666666666666667, 0.9666666666666667, 0.9666666666666667, 0.9666666666666667, 0.9666666666666667, 0.9666666666666667, 0.9666666666666667, 0.9666666666666667, 0.9666666666666667, 0.9666666666666667, 0.9666666666666667, 0.9666666666666667, 0.9666666666666667, 0.9666666666666667, 0.9666666666666667, 0.9666666666666667, 0.9666666666666667, 0.9666666666666667, 0.9666666666666667, 0.9666666666666667, 0.9666666666666667, 0.9666666666666667, 0.9666666666666667, 0.9666666666666667, 0.9666666666666667, 0.9666666666666667, 0.9666666666666667, 0.9666666666666667, 0.9666666666666667, 0.9666666666666667, 0.9666666666666667, 0.9666666666666667, 0.9666666666666667, 0.9666666666666667, 0.9666666666666667, 0.9666666666666667, 0.9666666666666667, 0.9666666666666667, 0.9666666666666667, 0.9666666666666667, 0.9666666666666667, 0.9666666666666667, 0.9666666666666667, 0.9666666666666667, 0.9666666666666667, 0.9666666666666667, 0.9666666666666667, 0.9666666666666667, 0.9666666666666667, 0.9666666666666667, 0.9666666666666667, 0.9666666666666667, 0.9666666666666667]}],\n",
              "                        {\"template\": {\"data\": {\"bar\": [{\"error_x\": {\"color\": \"#2a3f5f\"}, \"error_y\": {\"color\": \"#2a3f5f\"}, \"marker\": {\"line\": {\"color\": \"#E5ECF6\", \"width\": 0.5}}, \"type\": \"bar\"}], \"barpolar\": [{\"marker\": {\"line\": {\"color\": \"#E5ECF6\", \"width\": 0.5}}, \"type\": \"barpolar\"}], \"carpet\": [{\"aaxis\": {\"endlinecolor\": \"#2a3f5f\", \"gridcolor\": \"white\", \"linecolor\": \"white\", \"minorgridcolor\": \"white\", \"startlinecolor\": \"#2a3f5f\"}, \"baxis\": {\"endlinecolor\": \"#2a3f5f\", \"gridcolor\": \"white\", \"linecolor\": \"white\", \"minorgridcolor\": \"white\", \"startlinecolor\": \"#2a3f5f\"}, \"type\": \"carpet\"}], \"choropleth\": [{\"colorbar\": {\"outlinewidth\": 0, \"ticks\": \"\"}, \"type\": \"choropleth\"}], \"contour\": [{\"colorbar\": {\"outlinewidth\": 0, \"ticks\": \"\"}, \"colorscale\": [[0.0, \"#0d0887\"], [0.1111111111111111, \"#46039f\"], [0.2222222222222222, \"#7201a8\"], [0.3333333333333333, \"#9c179e\"], [0.4444444444444444, \"#bd3786\"], [0.5555555555555556, \"#d8576b\"], [0.6666666666666666, \"#ed7953\"], [0.7777777777777778, \"#fb9f3a\"], [0.8888888888888888, \"#fdca26\"], [1.0, \"#f0f921\"]], \"type\": \"contour\"}], \"contourcarpet\": [{\"colorbar\": {\"outlinewidth\": 0, \"ticks\": \"\"}, \"type\": \"contourcarpet\"}], \"heatmap\": [{\"colorbar\": {\"outlinewidth\": 0, \"ticks\": \"\"}, \"colorscale\": [[0.0, \"#0d0887\"], [0.1111111111111111, \"#46039f\"], [0.2222222222222222, \"#7201a8\"], [0.3333333333333333, \"#9c179e\"], [0.4444444444444444, \"#bd3786\"], [0.5555555555555556, \"#d8576b\"], [0.6666666666666666, \"#ed7953\"], [0.7777777777777778, \"#fb9f3a\"], [0.8888888888888888, \"#fdca26\"], [1.0, \"#f0f921\"]], \"type\": \"heatmap\"}], \"heatmapgl\": [{\"colorbar\": {\"outlinewidth\": 0, \"ticks\": \"\"}, \"colorscale\": [[0.0, \"#0d0887\"], [0.1111111111111111, \"#46039f\"], [0.2222222222222222, \"#7201a8\"], [0.3333333333333333, \"#9c179e\"], [0.4444444444444444, \"#bd3786\"], [0.5555555555555556, \"#d8576b\"], [0.6666666666666666, \"#ed7953\"], [0.7777777777777778, \"#fb9f3a\"], [0.8888888888888888, \"#fdca26\"], [1.0, \"#f0f921\"]], \"type\": \"heatmapgl\"}], \"histogram\": [{\"marker\": {\"colorbar\": {\"outlinewidth\": 0, \"ticks\": \"\"}}, \"type\": \"histogram\"}], \"histogram2d\": [{\"colorbar\": {\"outlinewidth\": 0, \"ticks\": \"\"}, \"colorscale\": [[0.0, \"#0d0887\"], [0.1111111111111111, \"#46039f\"], [0.2222222222222222, \"#7201a8\"], [0.3333333333333333, \"#9c179e\"], [0.4444444444444444, \"#bd3786\"], [0.5555555555555556, \"#d8576b\"], [0.6666666666666666, \"#ed7953\"], [0.7777777777777778, \"#fb9f3a\"], [0.8888888888888888, \"#fdca26\"], [1.0, \"#f0f921\"]], \"type\": \"histogram2d\"}], \"histogram2dcontour\": [{\"colorbar\": {\"outlinewidth\": 0, \"ticks\": \"\"}, \"colorscale\": [[0.0, \"#0d0887\"], [0.1111111111111111, \"#46039f\"], [0.2222222222222222, \"#7201a8\"], [0.3333333333333333, \"#9c179e\"], [0.4444444444444444, \"#bd3786\"], [0.5555555555555556, \"#d8576b\"], [0.6666666666666666, \"#ed7953\"], [0.7777777777777778, \"#fb9f3a\"], [0.8888888888888888, \"#fdca26\"], [1.0, \"#f0f921\"]], \"type\": \"histogram2dcontour\"}], \"mesh3d\": [{\"colorbar\": {\"outlinewidth\": 0, \"ticks\": \"\"}, \"type\": \"mesh3d\"}], \"parcoords\": [{\"line\": {\"colorbar\": {\"outlinewidth\": 0, \"ticks\": \"\"}}, \"type\": \"parcoords\"}], \"pie\": [{\"automargin\": true, \"type\": \"pie\"}], \"scatter\": [{\"marker\": {\"colorbar\": {\"outlinewidth\": 0, \"ticks\": \"\"}}, \"type\": \"scatter\"}], \"scatter3d\": [{\"line\": {\"colorbar\": {\"outlinewidth\": 0, \"ticks\": \"\"}}, \"marker\": {\"colorbar\": {\"outlinewidth\": 0, \"ticks\": \"\"}}, \"type\": \"scatter3d\"}], \"scattercarpet\": [{\"marker\": {\"colorbar\": {\"outlinewidth\": 0, \"ticks\": \"\"}}, \"type\": \"scattercarpet\"}], \"scattergeo\": [{\"marker\": {\"colorbar\": {\"outlinewidth\": 0, \"ticks\": \"\"}}, \"type\": \"scattergeo\"}], \"scattergl\": [{\"marker\": {\"colorbar\": {\"outlinewidth\": 0, \"ticks\": \"\"}}, \"type\": \"scattergl\"}], \"scattermapbox\": [{\"marker\": {\"colorbar\": {\"outlinewidth\": 0, \"ticks\": \"\"}}, \"type\": \"scattermapbox\"}], \"scatterpolar\": [{\"marker\": {\"colorbar\": {\"outlinewidth\": 0, \"ticks\": \"\"}}, \"type\": \"scatterpolar\"}], \"scatterpolargl\": [{\"marker\": {\"colorbar\": {\"outlinewidth\": 0, \"ticks\": \"\"}}, \"type\": \"scatterpolargl\"}], \"scatterternary\": [{\"marker\": {\"colorbar\": {\"outlinewidth\": 0, \"ticks\": \"\"}}, \"type\": \"scatterternary\"}], \"surface\": [{\"colorbar\": {\"outlinewidth\": 0, \"ticks\": \"\"}, \"colorscale\": [[0.0, \"#0d0887\"], [0.1111111111111111, \"#46039f\"], [0.2222222222222222, \"#7201a8\"], [0.3333333333333333, \"#9c179e\"], [0.4444444444444444, \"#bd3786\"], [0.5555555555555556, \"#d8576b\"], [0.6666666666666666, \"#ed7953\"], [0.7777777777777778, \"#fb9f3a\"], [0.8888888888888888, \"#fdca26\"], [1.0, \"#f0f921\"]], \"type\": \"surface\"}], \"table\": [{\"cells\": {\"fill\": {\"color\": \"#EBF0F8\"}, \"line\": {\"color\": \"white\"}}, \"header\": {\"fill\": {\"color\": \"#C8D4E3\"}, \"line\": {\"color\": \"white\"}}, \"type\": \"table\"}]}, \"layout\": {\"annotationdefaults\": {\"arrowcolor\": \"#2a3f5f\", \"arrowhead\": 0, \"arrowwidth\": 1}, \"coloraxis\": {\"colorbar\": {\"outlinewidth\": 0, \"ticks\": \"\"}}, \"colorscale\": {\"diverging\": [[0, \"#8e0152\"], [0.1, \"#c51b7d\"], [0.2, \"#de77ae\"], [0.3, \"#f1b6da\"], [0.4, \"#fde0ef\"], [0.5, \"#f7f7f7\"], [0.6, \"#e6f5d0\"], [0.7, \"#b8e186\"], [0.8, \"#7fbc41\"], [0.9, \"#4d9221\"], [1, \"#276419\"]], \"sequential\": [[0.0, \"#0d0887\"], [0.1111111111111111, \"#46039f\"], [0.2222222222222222, \"#7201a8\"], [0.3333333333333333, \"#9c179e\"], [0.4444444444444444, \"#bd3786\"], [0.5555555555555556, \"#d8576b\"], [0.6666666666666666, \"#ed7953\"], [0.7777777777777778, \"#fb9f3a\"], [0.8888888888888888, \"#fdca26\"], [1.0, \"#f0f921\"]], \"sequentialminus\": [[0.0, \"#0d0887\"], [0.1111111111111111, \"#46039f\"], [0.2222222222222222, \"#7201a8\"], [0.3333333333333333, \"#9c179e\"], [0.4444444444444444, \"#bd3786\"], [0.5555555555555556, \"#d8576b\"], [0.6666666666666666, \"#ed7953\"], [0.7777777777777778, \"#fb9f3a\"], [0.8888888888888888, \"#fdca26\"], [1.0, \"#f0f921\"]]}, \"colorway\": [\"#636efa\", \"#EF553B\", \"#00cc96\", \"#ab63fa\", \"#FFA15A\", \"#19d3f3\", \"#FF6692\", \"#B6E880\", \"#FF97FF\", \"#FECB52\"], \"font\": {\"color\": \"#2a3f5f\"}, \"geo\": {\"bgcolor\": \"white\", \"lakecolor\": \"white\", \"landcolor\": \"#E5ECF6\", \"showlakes\": true, \"showland\": true, \"subunitcolor\": \"white\"}, \"hoverlabel\": {\"align\": \"left\"}, \"hovermode\": \"closest\", \"mapbox\": {\"style\": \"light\"}, \"paper_bgcolor\": \"white\", \"plot_bgcolor\": \"#E5ECF6\", \"polar\": {\"angularaxis\": {\"gridcolor\": \"white\", \"linecolor\": \"white\", \"ticks\": \"\"}, \"bgcolor\": \"#E5ECF6\", \"radialaxis\": {\"gridcolor\": \"white\", \"linecolor\": \"white\", \"ticks\": \"\"}}, \"scene\": {\"xaxis\": {\"backgroundcolor\": \"#E5ECF6\", \"gridcolor\": \"white\", \"gridwidth\": 2, \"linecolor\": \"white\", \"showbackground\": true, \"ticks\": \"\", \"zerolinecolor\": \"white\"}, \"yaxis\": {\"backgroundcolor\": \"#E5ECF6\", \"gridcolor\": \"white\", \"gridwidth\": 2, \"linecolor\": \"white\", \"showbackground\": true, \"ticks\": \"\", \"zerolinecolor\": \"white\"}, \"zaxis\": {\"backgroundcolor\": \"#E5ECF6\", \"gridcolor\": \"white\", \"gridwidth\": 2, \"linecolor\": \"white\", \"showbackground\": true, \"ticks\": \"\", \"zerolinecolor\": \"white\"}}, \"shapedefaults\": {\"line\": {\"color\": \"#2a3f5f\"}}, \"ternary\": {\"aaxis\": {\"gridcolor\": \"white\", \"linecolor\": \"white\", \"ticks\": \"\"}, \"baxis\": {\"gridcolor\": \"white\", \"linecolor\": \"white\", \"ticks\": \"\"}, \"bgcolor\": \"#E5ECF6\", \"caxis\": {\"gridcolor\": \"white\", \"linecolor\": \"white\", \"ticks\": \"\"}}, \"title\": {\"x\": 0.05}, \"xaxis\": {\"automargin\": true, \"gridcolor\": \"white\", \"linecolor\": \"white\", \"ticks\": \"\", \"title\": {\"standoff\": 15}, \"zerolinecolor\": \"white\", \"zerolinewidth\": 2}, \"yaxis\": {\"automargin\": true, \"gridcolor\": \"white\", \"linecolor\": \"white\", \"ticks\": \"\", \"title\": {\"standoff\": 15}, \"zerolinecolor\": \"white\", \"zerolinewidth\": 2}}}, \"title\": {\"text\": \"Optimization History Plot\"}, \"xaxis\": {\"title\": {\"text\": \"#Trials\"}}, \"yaxis\": {\"title\": {\"text\": \"Objective Value\"}}},\n",
              "                        {\"responsive\": true}\n",
              "                    ).then(function(){\n",
              "                            \n",
              "var gd = document.getElementById('b63daa2c-d84d-42ec-a53d-a52f6ac9f82c');\n",
              "var x = new MutationObserver(function (mutations, observer) {{\n",
              "        var display = window.getComputedStyle(gd).display;\n",
              "        if (!display || display === 'none') {{\n",
              "            console.log([gd, 'removed!']);\n",
              "            Plotly.purge(gd);\n",
              "            observer.disconnect();\n",
              "        }}\n",
              "}});\n",
              "\n",
              "// Listen for the removal of the full notebook cells\n",
              "var notebookContainer = gd.closest('#notebook-container');\n",
              "if (notebookContainer) {{\n",
              "    x.observe(notebookContainer, {childList: true});\n",
              "}}\n",
              "\n",
              "// Listen for the clearing of the current output cell\n",
              "var outputEl = gd.closest('.output');\n",
              "if (outputEl) {{\n",
              "    x.observe(outputEl, {childList: true});\n",
              "}}\n",
              "\n",
              "                        })\n",
              "                };\n",
              "                \n",
              "            </script>\n",
              "        </div>\n",
              "</body>\n",
              "</html>"
            ]
          },
          "metadata": {
            "tags": []
          }
        }
      ]
    },
    {
      "cell_type": "markdown",
      "metadata": {
        "id": "iOzo0Vy6Qzmd",
        "colab_type": "text"
      },
      "source": [
        "Plotting the accuracies for each hyperparameter for each trial."
      ]
    },
    {
      "cell_type": "code",
      "metadata": {
        "id": "uCDcl9XBQzmd",
        "colab_type": "code",
        "colab": {
          "base_uri": "https://localhost:8080/",
          "height": 542
        },
        "outputId": "e3ec7ea1-368d-484c-e24b-22c660620040"
      },
      "source": [
        "optuna.visualization.plot_slice(study)"
      ],
      "execution_count": 7,
      "outputs": [
        {
          "output_type": "display_data",
          "data": {
            "text/html": [
              "<html>\n",
              "<head><meta charset=\"utf-8\" /></head>\n",
              "<body>\n",
              "    <div>\n",
              "            <script src=\"https://cdnjs.cloudflare.com/ajax/libs/mathjax/2.7.5/MathJax.js?config=TeX-AMS-MML_SVG\"></script><script type=\"text/javascript\">if (window.MathJax) {MathJax.Hub.Config({SVG: {font: \"STIX-Web\"}});}</script>\n",
              "                <script type=\"text/javascript\">window.PlotlyConfig = {MathJaxConfig: 'local'};</script>\n",
              "        <script src=\"https://cdn.plot.ly/plotly-latest.min.js\"></script>    \n",
              "            <div id=\"75ec197a-fa99-4958-ab4c-d6465e4f948a\" class=\"plotly-graph-div\" style=\"height:525px; width:1200px;\"></div>\n",
              "            <script type=\"text/javascript\">\n",
              "                \n",
              "                    window.PLOTLYENV=window.PLOTLYENV || {};\n",
              "                    \n",
              "                if (document.getElementById(\"75ec197a-fa99-4958-ab4c-d6465e4f948a\")) {\n",
              "                    Plotly.newPlot(\n",
              "                        '75ec197a-fa99-4958-ab4c-d6465e4f948a',\n",
              "                        [{\"marker\": {\"color\": [0, 1, 2, 3, 4, 5, 6, 7, 8, 9, 10, 11, 12, 13, 14, 15, 16, 17, 18, 19, 20, 21, 22, 23, 24, 25, 26, 27, 28, 29, 30, 31, 32, 33, 34, 35, 36, 37, 38, 39, 40, 41, 42, 43, 44, 45, 46, 47, 48, 49, 50, 51, 52, 53, 54, 55, 56, 57, 58, 59, 60, 61, 62, 63, 64, 65, 66, 67, 68, 69, 70, 71, 72, 73, 74, 75, 76, 77, 78, 79, 80, 81, 82, 83, 84, 85, 86, 87, 88, 89, 90, 91, 92, 93, 94, 95, 96, 97, 98, 99], \"colorbar\": {\"title\": {\"text\": \"#Trials\"}, \"x\": 1.0, \"xpad\": 40}, \"colorscale\": [[0.0, \"rgb(247,251,255)\"], [0.125, \"rgb(222,235,247)\"], [0.25, \"rgb(198,219,239)\"], [0.375, \"rgb(158,202,225)\"], [0.5, \"rgb(107,174,214)\"], [0.625, \"rgb(66,146,198)\"], [0.75, \"rgb(33,113,181)\"], [0.875, \"rgb(8,81,156)\"], [1.0, \"rgb(8,48,107)\"]], \"line\": {\"color\": \"Grey\", \"width\": 0.5}, \"showscale\": true}, \"mode\": \"markers\", \"showlegend\": false, \"type\": \"scatter\", \"x\": [\"SVC\", \"SVC\", \"RandomForest\", \"SVC\", \"RandomForest\", \"SVC\", \"RandomForest\", \"RandomForest\", \"SVC\", \"RandomForest\", \"RandomForest\", \"RandomForest\", \"RandomForest\", \"RandomForest\", \"RandomForest\", \"RandomForest\", \"RandomForest\", \"RandomForest\", \"RandomForest\", \"RandomForest\", \"RandomForest\", \"RandomForest\", \"RandomForest\", \"RandomForest\", \"RandomForest\", \"RandomForest\", \"RandomForest\", \"RandomForest\", \"RandomForest\", \"SVC\", \"RandomForest\", \"RandomForest\", \"RandomForest\", \"RandomForest\", \"RandomForest\", \"SVC\", \"SVC\", \"RandomForest\", \"RandomForest\", \"RandomForest\", \"RandomForest\", \"RandomForest\", \"RandomForest\", \"RandomForest\", \"RandomForest\", \"RandomForest\", \"RandomForest\", \"SVC\", \"RandomForest\", \"RandomForest\", \"RandomForest\", \"RandomForest\", \"RandomForest\", \"RandomForest\", \"RandomForest\", \"RandomForest\", \"RandomForest\", \"RandomForest\", \"RandomForest\", \"RandomForest\", \"RandomForest\", \"RandomForest\", \"RandomForest\", \"RandomForest\", \"RandomForest\", \"RandomForest\", \"RandomForest\", \"RandomForest\", \"RandomForest\", \"SVC\", \"RandomForest\", \"RandomForest\", \"RandomForest\", \"RandomForest\", \"RandomForest\", \"RandomForest\", \"RandomForest\", \"RandomForest\", \"RandomForest\", \"RandomForest\", \"RandomForest\", \"RandomForest\", \"RandomForest\", \"RandomForest\", \"RandomForest\", \"RandomForest\", \"RandomForest\", \"RandomForest\", \"RandomForest\", \"SVC\", \"RandomForest\", \"RandomForest\", \"RandomForest\", \"RandomForest\", \"RandomForest\", \"RandomForest\", \"RandomForest\", \"RandomForest\", \"RandomForest\", \"RandomForest\"], \"xaxis\": \"x\", \"y\": [0.32, 0.96, 0.8466666666666667, 0.96, 0.9533333333333333, 0.32, 0.96, 0.9666666666666667, 0.32, 0.9666666666666667, 0.9666666666666667, 0.9533333333333333, 0.9333333333333332, 0.9333333333333332, 0.9533333333333333, 0.7933333333333334, 0.9466666666666667, 0.9466666666666667, 0.9533333333333333, 0.94, 0.96, 0.96, 0.9533333333333333, 0.94, 0.9466666666666667, 0.96, 0.9466666666666667, 0.96, 0.9533333333333333, 0.96, 0.96, 0.96, 0.9533333333333333, 0.96, 0.9466666666666667, 0.96, 0.96, 0.9666666666666667, 0.94, 0.9666666666666667, 0.9533333333333333, 0.96, 0.9666666666666667, 0.9533333333333333, 0.9533333333333333, 0.96, 0.96, 0.96, 0.9466666666666667, 0.9533333333333333, 0.96, 0.9466666666666667, 0.9666666666666667, 0.96, 0.9533333333333333, 0.96, 0.9666666666666667, 0.9533333333333333, 0.96, 0.96, 0.9466666666666667, 0.9666666666666667, 0.96, 0.9666666666666667, 0.96, 0.9666666666666667, 0.9533333333333333, 0.9466666666666667, 0.96, 0.32, 0.96, 0.96, 0.9533333333333333, 0.9466666666666667, 0.96, 0.9666666666666667, 0.96, 0.9666666666666667, 0.96, 0.9333333333333332, 0.96, 0.96, 0.9466666666666667, 0.96, 0.9533333333333333, 0.9466666666666667, 0.9533333333333333, 0.9533333333333333, 0.8466666666666667, 0.32, 0.9666666666666667, 0.9533333333333333, 0.9666666666666667, 0.96, 0.9666666666666667, 0.9533333333333333, 0.9666666666666667, 0.9666666666666667, 0.96, 0.96], \"yaxis\": \"y\"}, {\"marker\": {\"color\": [2, 4, 6, 7, 9, 10, 11, 12, 13, 14, 15, 16, 17, 18, 19, 20, 21, 22, 23, 24, 25, 26, 27, 28, 30, 31, 32, 33, 34, 37, 38, 39, 40, 41, 42, 43, 44, 45, 46, 48, 49, 50, 51, 52, 53, 54, 55, 56, 57, 58, 59, 60, 61, 62, 63, 64, 65, 66, 67, 68, 70, 71, 72, 73, 74, 75, 76, 77, 78, 79, 80, 81, 82, 83, 84, 85, 86, 87, 88, 90, 91, 92, 93, 94, 95, 96, 97, 98, 99], \"colorbar\": {\"title\": {\"text\": \"#Trials\"}, \"x\": 1.0, \"xpad\": 40}, \"colorscale\": [[0.0, \"rgb(247,251,255)\"], [0.125, \"rgb(222,235,247)\"], [0.25, \"rgb(198,219,239)\"], [0.375, \"rgb(158,202,225)\"], [0.5, \"rgb(107,174,214)\"], [0.625, \"rgb(66,146,198)\"], [0.75, \"rgb(33,113,181)\"], [0.875, \"rgb(8,81,156)\"], [1.0, \"rgb(8,48,107)\"]], \"line\": {\"color\": \"Grey\", \"width\": 0.5}, \"showscale\": false}, \"mode\": \"markers\", \"showlegend\": false, \"type\": \"scatter\", \"x\": [1.9660456944915936, 2.584188351905201, 18.066539197554178, 4.70974563063755, 2.6736802199199197, 8.672440833362012, 4.095315209069329, 1.1207724595094366, 8.322899472826473, 4.040337316328708, 1.37772312818475, 6.865467586748677, 14.577291975627006, 2.882849689255297, 10.583753898294175, 4.605226873032266, 5.580367227810661, 26.438515732104534, 2.798621731998245, 10.20462643374787, 1.8205291255108562, 6.391196939938895, 3.4279073471829045, 13.70507286639301, 5.328381695213668, 7.633224532799218, 7.7795434107073, 9.506882759592491, 10.521144032513433, 5.310999667769639, 2.032066887437598, 4.721851385891314, 2.025267502049802, 3.450612803123719, 5.173470702108481, 4.885454664579712, 3.563931421035535, 2.342309147063078, 6.317187370225169, 4.103344074033625, 1.3526731541417072, 4.162246728001973, 5.409285448161118, 6.611256914158104, 6.931255409484731, 8.886281227679168, 11.79788999164403, 6.002010711603384, 4.419175794424924, 3.095219161827854, 18.13978998344046, 6.421712545634927, 5.046631585516952, 7.552069420971851, 5.8627983326741955, 8.900111919759393, 5.835775184081581, 5.799030855379592, 3.6821117257547913, 4.732090930058994, 4.769702047106393, 5.78808751959901, 5.276430297609882, 6.257168071450484, 7.097022679259553, 8.374540218954417, 5.063303965559359, 12.54536761259946, 12.542602283660337, 2.4011891966102814, 8.643594046396544, 7.7145234012294726, 16.16970222392525, 9.817058793348961, 11.661338271943674, 6.277028952017253, 8.106192468855406, 6.953246487948035, 1.6274190027169704, 5.554512189399322, 4.32240406754962, 3.2181975627782293, 2.728408791377431, 5.900373719327792, 5.931945290871352, 3.8034621040769685, 3.8028741609653367, 3.854093169745186, 3.1251399872277172], \"xaxis\": \"x2\", \"y\": [0.8466666666666667, 0.9533333333333333, 0.96, 0.9666666666666667, 0.9666666666666667, 0.9666666666666667, 0.9533333333333333, 0.9333333333333332, 0.9333333333333332, 0.9533333333333333, 0.7933333333333334, 0.9466666666666667, 0.9466666666666667, 0.9533333333333333, 0.94, 0.96, 0.96, 0.9533333333333333, 0.94, 0.9466666666666667, 0.96, 0.9466666666666667, 0.96, 0.9533333333333333, 0.96, 0.96, 0.9533333333333333, 0.96, 0.9466666666666667, 0.9666666666666667, 0.94, 0.9666666666666667, 0.9533333333333333, 0.96, 0.9666666666666667, 0.9533333333333333, 0.9533333333333333, 0.96, 0.96, 0.9466666666666667, 0.9533333333333333, 0.96, 0.9466666666666667, 0.9666666666666667, 0.96, 0.9533333333333333, 0.96, 0.9666666666666667, 0.9533333333333333, 0.96, 0.96, 0.9466666666666667, 0.9666666666666667, 0.96, 0.9666666666666667, 0.96, 0.9666666666666667, 0.9533333333333333, 0.9466666666666667, 0.96, 0.96, 0.96, 0.9533333333333333, 0.9466666666666667, 0.96, 0.9666666666666667, 0.96, 0.9666666666666667, 0.96, 0.9333333333333332, 0.96, 0.96, 0.9466666666666667, 0.96, 0.9533333333333333, 0.9466666666666667, 0.9533333333333333, 0.9533333333333333, 0.8466666666666667, 0.9666666666666667, 0.9533333333333333, 0.9666666666666667, 0.96, 0.9666666666666667, 0.9533333333333333, 0.9666666666666667, 0.9666666666666667, 0.96, 0.96], \"yaxis\": \"y2\"}, {\"marker\": {\"color\": [2, 4, 6, 7, 9, 10, 11, 12, 13, 14, 15, 16, 17, 18, 19, 20, 21, 22, 23, 24, 25, 26, 27, 28, 30, 31, 32, 33, 34, 37, 38, 39, 40, 41, 42, 43, 44, 45, 46, 48, 49, 50, 51, 52, 53, 54, 55, 56, 57, 58, 59, 60, 61, 62, 63, 64, 65, 66, 67, 68, 70, 71, 72, 73, 74, 75, 76, 77, 78, 79, 80, 81, 82, 83, 84, 85, 86, 87, 88, 90, 91, 92, 93, 94, 95, 96, 97, 98, 99], \"colorbar\": {\"title\": {\"text\": \"#Trials\"}, \"x\": 1.0, \"xpad\": 40}, \"colorscale\": [[0.0, \"rgb(247,251,255)\"], [0.125, \"rgb(222,235,247)\"], [0.25, \"rgb(198,219,239)\"], [0.375, \"rgb(158,202,225)\"], [0.5, \"rgb(107,174,214)\"], [0.625, \"rgb(66,146,198)\"], [0.75, \"rgb(33,113,181)\"], [0.875, \"rgb(8,81,156)\"], [1.0, \"rgb(8,48,107)\"]], \"line\": {\"color\": \"Grey\", \"width\": 0.5}, \"showscale\": false}, \"mode\": \"markers\", \"showlegend\": false, \"type\": \"scatter\", \"x\": [14, 8, 7, 14, 3, 20, 2, 15, 2, 18, 11, 6, 13, 17, 4, 10, 19, 20, 16, 12, 20, 9, 16, 5, 13, 19, 18, 20, 20, 18, 14, 15, 15, 17, 14, 14, 16, 12, 18, 8, 15, 17, 14, 12, 11, 12, 3, 10, 7, 13, 19, 10, 13, 10, 12, 12, 11, 9, 13, 15, 11, 9, 11, 13, 12, 14, 10, 15, 16, 2, 14, 5, 15, 18, 13, 11, 14, 12, 19, 10, 9, 14, 12, 13, 13, 13, 8, 8, 15], \"xaxis\": \"x3\", \"y\": [0.8466666666666667, 0.9533333333333333, 0.96, 0.9666666666666667, 0.9666666666666667, 0.9666666666666667, 0.9533333333333333, 0.9333333333333332, 0.9333333333333332, 0.9533333333333333, 0.7933333333333334, 0.9466666666666667, 0.9466666666666667, 0.9533333333333333, 0.94, 0.96, 0.96, 0.9533333333333333, 0.94, 0.9466666666666667, 0.96, 0.9466666666666667, 0.96, 0.9533333333333333, 0.96, 0.96, 0.9533333333333333, 0.96, 0.9466666666666667, 0.9666666666666667, 0.94, 0.9666666666666667, 0.9533333333333333, 0.96, 0.9666666666666667, 0.9533333333333333, 0.9533333333333333, 0.96, 0.96, 0.9466666666666667, 0.9533333333333333, 0.96, 0.9466666666666667, 0.9666666666666667, 0.96, 0.9533333333333333, 0.96, 0.9666666666666667, 0.9533333333333333, 0.96, 0.96, 0.9466666666666667, 0.9666666666666667, 0.96, 0.9666666666666667, 0.96, 0.9666666666666667, 0.9533333333333333, 0.9466666666666667, 0.96, 0.96, 0.96, 0.9533333333333333, 0.9466666666666667, 0.96, 0.9666666666666667, 0.96, 0.9666666666666667, 0.96, 0.9333333333333332, 0.96, 0.96, 0.9466666666666667, 0.96, 0.9533333333333333, 0.9466666666666667, 0.9533333333333333, 0.9533333333333333, 0.8466666666666667, 0.9666666666666667, 0.9533333333333333, 0.9666666666666667, 0.96, 0.9666666666666667, 0.9533333333333333, 0.9666666666666667, 0.9666666666666667, 0.96, 0.96], \"yaxis\": \"y3\"}, {\"marker\": {\"color\": [0, 1, 3, 5, 8, 29, 35, 36, 47, 69, 89], \"colorbar\": {\"title\": {\"text\": \"#Trials\"}, \"x\": 1.0, \"xpad\": 40}, \"colorscale\": [[0.0, \"rgb(247,251,255)\"], [0.125, \"rgb(222,235,247)\"], [0.25, \"rgb(198,219,239)\"], [0.375, \"rgb(158,202,225)\"], [0.5, \"rgb(107,174,214)\"], [0.625, \"rgb(66,146,198)\"], [0.75, \"rgb(33,113,181)\"], [0.875, \"rgb(8,81,156)\"], [1.0, \"rgb(8,48,107)\"]], \"line\": {\"color\": \"Grey\", \"width\": 0.5}, \"showscale\": false}, \"mode\": \"markers\", \"showlegend\": false, \"type\": \"scatter\", \"x\": [1.6086246778500126e-06, 0.3586156212218282, 59.077355701918, 4.147081667514694e-10, 1.7716946350611596e-06, 1284914478.4499218, 17785327.868824866, 1672704625.3439283, 9002.811363853252, 0.0002929306484215907, 2.5436760011149793e-10], \"xaxis\": \"x4\", \"y\": [0.32, 0.96, 0.96, 0.32, 0.32, 0.96, 0.96, 0.96, 0.96, 0.32, 0.32], \"yaxis\": \"y4\"}],\n",
              "                        {\"template\": {\"data\": {\"bar\": [{\"error_x\": {\"color\": \"#2a3f5f\"}, \"error_y\": {\"color\": \"#2a3f5f\"}, \"marker\": {\"line\": {\"color\": \"#E5ECF6\", \"width\": 0.5}}, \"type\": \"bar\"}], \"barpolar\": [{\"marker\": {\"line\": {\"color\": \"#E5ECF6\", \"width\": 0.5}}, \"type\": \"barpolar\"}], \"carpet\": [{\"aaxis\": {\"endlinecolor\": \"#2a3f5f\", \"gridcolor\": \"white\", \"linecolor\": \"white\", \"minorgridcolor\": \"white\", \"startlinecolor\": \"#2a3f5f\"}, \"baxis\": {\"endlinecolor\": \"#2a3f5f\", \"gridcolor\": \"white\", \"linecolor\": \"white\", \"minorgridcolor\": \"white\", \"startlinecolor\": \"#2a3f5f\"}, \"type\": \"carpet\"}], \"choropleth\": [{\"colorbar\": {\"outlinewidth\": 0, \"ticks\": \"\"}, \"type\": \"choropleth\"}], \"contour\": [{\"colorbar\": {\"outlinewidth\": 0, \"ticks\": \"\"}, \"colorscale\": [[0.0, \"#0d0887\"], [0.1111111111111111, \"#46039f\"], [0.2222222222222222, \"#7201a8\"], [0.3333333333333333, \"#9c179e\"], [0.4444444444444444, \"#bd3786\"], [0.5555555555555556, \"#d8576b\"], [0.6666666666666666, \"#ed7953\"], [0.7777777777777778, \"#fb9f3a\"], [0.8888888888888888, \"#fdca26\"], [1.0, \"#f0f921\"]], \"type\": \"contour\"}], \"contourcarpet\": [{\"colorbar\": {\"outlinewidth\": 0, \"ticks\": \"\"}, \"type\": \"contourcarpet\"}], \"heatmap\": [{\"colorbar\": {\"outlinewidth\": 0, \"ticks\": \"\"}, \"colorscale\": [[0.0, \"#0d0887\"], [0.1111111111111111, \"#46039f\"], [0.2222222222222222, \"#7201a8\"], [0.3333333333333333, \"#9c179e\"], [0.4444444444444444, \"#bd3786\"], [0.5555555555555556, \"#d8576b\"], [0.6666666666666666, \"#ed7953\"], [0.7777777777777778, \"#fb9f3a\"], [0.8888888888888888, \"#fdca26\"], [1.0, \"#f0f921\"]], \"type\": \"heatmap\"}], \"heatmapgl\": [{\"colorbar\": {\"outlinewidth\": 0, \"ticks\": \"\"}, \"colorscale\": [[0.0, \"#0d0887\"], [0.1111111111111111, \"#46039f\"], [0.2222222222222222, \"#7201a8\"], [0.3333333333333333, \"#9c179e\"], [0.4444444444444444, \"#bd3786\"], [0.5555555555555556, \"#d8576b\"], [0.6666666666666666, \"#ed7953\"], [0.7777777777777778, \"#fb9f3a\"], [0.8888888888888888, \"#fdca26\"], [1.0, \"#f0f921\"]], \"type\": \"heatmapgl\"}], \"histogram\": [{\"marker\": {\"colorbar\": {\"outlinewidth\": 0, \"ticks\": \"\"}}, \"type\": \"histogram\"}], \"histogram2d\": [{\"colorbar\": {\"outlinewidth\": 0, \"ticks\": \"\"}, \"colorscale\": [[0.0, \"#0d0887\"], [0.1111111111111111, \"#46039f\"], [0.2222222222222222, \"#7201a8\"], [0.3333333333333333, \"#9c179e\"], [0.4444444444444444, \"#bd3786\"], [0.5555555555555556, \"#d8576b\"], [0.6666666666666666, \"#ed7953\"], [0.7777777777777778, \"#fb9f3a\"], [0.8888888888888888, \"#fdca26\"], [1.0, \"#f0f921\"]], \"type\": \"histogram2d\"}], \"histogram2dcontour\": [{\"colorbar\": {\"outlinewidth\": 0, \"ticks\": \"\"}, \"colorscale\": [[0.0, \"#0d0887\"], [0.1111111111111111, \"#46039f\"], [0.2222222222222222, \"#7201a8\"], [0.3333333333333333, \"#9c179e\"], [0.4444444444444444, \"#bd3786\"], [0.5555555555555556, \"#d8576b\"], [0.6666666666666666, \"#ed7953\"], [0.7777777777777778, \"#fb9f3a\"], [0.8888888888888888, \"#fdca26\"], [1.0, \"#f0f921\"]], \"type\": \"histogram2dcontour\"}], \"mesh3d\": [{\"colorbar\": {\"outlinewidth\": 0, \"ticks\": \"\"}, \"type\": \"mesh3d\"}], \"parcoords\": [{\"line\": {\"colorbar\": {\"outlinewidth\": 0, \"ticks\": \"\"}}, \"type\": \"parcoords\"}], \"pie\": [{\"automargin\": true, \"type\": \"pie\"}], \"scatter\": [{\"marker\": {\"colorbar\": {\"outlinewidth\": 0, \"ticks\": \"\"}}, \"type\": \"scatter\"}], \"scatter3d\": [{\"line\": {\"colorbar\": {\"outlinewidth\": 0, \"ticks\": \"\"}}, \"marker\": {\"colorbar\": {\"outlinewidth\": 0, \"ticks\": \"\"}}, \"type\": \"scatter3d\"}], \"scattercarpet\": [{\"marker\": {\"colorbar\": {\"outlinewidth\": 0, \"ticks\": \"\"}}, \"type\": \"scattercarpet\"}], \"scattergeo\": [{\"marker\": {\"colorbar\": {\"outlinewidth\": 0, \"ticks\": \"\"}}, \"type\": \"scattergeo\"}], \"scattergl\": [{\"marker\": {\"colorbar\": {\"outlinewidth\": 0, \"ticks\": \"\"}}, \"type\": \"scattergl\"}], \"scattermapbox\": [{\"marker\": {\"colorbar\": {\"outlinewidth\": 0, \"ticks\": \"\"}}, \"type\": \"scattermapbox\"}], \"scatterpolar\": [{\"marker\": {\"colorbar\": {\"outlinewidth\": 0, \"ticks\": \"\"}}, \"type\": \"scatterpolar\"}], \"scatterpolargl\": [{\"marker\": {\"colorbar\": {\"outlinewidth\": 0, \"ticks\": \"\"}}, \"type\": \"scatterpolargl\"}], \"scatterternary\": [{\"marker\": {\"colorbar\": {\"outlinewidth\": 0, \"ticks\": \"\"}}, \"type\": \"scatterternary\"}], \"surface\": [{\"colorbar\": {\"outlinewidth\": 0, \"ticks\": \"\"}, \"colorscale\": [[0.0, \"#0d0887\"], [0.1111111111111111, \"#46039f\"], [0.2222222222222222, \"#7201a8\"], [0.3333333333333333, \"#9c179e\"], [0.4444444444444444, \"#bd3786\"], [0.5555555555555556, \"#d8576b\"], [0.6666666666666666, \"#ed7953\"], [0.7777777777777778, \"#fb9f3a\"], [0.8888888888888888, \"#fdca26\"], [1.0, \"#f0f921\"]], \"type\": \"surface\"}], \"table\": [{\"cells\": {\"fill\": {\"color\": \"#EBF0F8\"}, \"line\": {\"color\": \"white\"}}, \"header\": {\"fill\": {\"color\": \"#C8D4E3\"}, \"line\": {\"color\": \"white\"}}, \"type\": \"table\"}]}, \"layout\": {\"annotationdefaults\": {\"arrowcolor\": \"#2a3f5f\", \"arrowhead\": 0, \"arrowwidth\": 1}, \"coloraxis\": {\"colorbar\": {\"outlinewidth\": 0, \"ticks\": \"\"}}, \"colorscale\": {\"diverging\": [[0, \"#8e0152\"], [0.1, \"#c51b7d\"], [0.2, \"#de77ae\"], [0.3, \"#f1b6da\"], [0.4, \"#fde0ef\"], [0.5, \"#f7f7f7\"], [0.6, \"#e6f5d0\"], [0.7, \"#b8e186\"], [0.8, \"#7fbc41\"], [0.9, \"#4d9221\"], [1, \"#276419\"]], \"sequential\": [[0.0, \"#0d0887\"], [0.1111111111111111, \"#46039f\"], [0.2222222222222222, \"#7201a8\"], [0.3333333333333333, \"#9c179e\"], [0.4444444444444444, \"#bd3786\"], [0.5555555555555556, \"#d8576b\"], [0.6666666666666666, \"#ed7953\"], [0.7777777777777778, \"#fb9f3a\"], [0.8888888888888888, \"#fdca26\"], [1.0, \"#f0f921\"]], \"sequentialminus\": [[0.0, \"#0d0887\"], [0.1111111111111111, \"#46039f\"], [0.2222222222222222, \"#7201a8\"], [0.3333333333333333, \"#9c179e\"], [0.4444444444444444, \"#bd3786\"], [0.5555555555555556, \"#d8576b\"], [0.6666666666666666, \"#ed7953\"], [0.7777777777777778, \"#fb9f3a\"], [0.8888888888888888, \"#fdca26\"], [1.0, \"#f0f921\"]]}, \"colorway\": [\"#636efa\", \"#EF553B\", \"#00cc96\", \"#ab63fa\", \"#FFA15A\", \"#19d3f3\", \"#FF6692\", \"#B6E880\", \"#FF97FF\", \"#FECB52\"], \"font\": {\"color\": \"#2a3f5f\"}, \"geo\": {\"bgcolor\": \"white\", \"lakecolor\": \"white\", \"landcolor\": \"#E5ECF6\", \"showlakes\": true, \"showland\": true, \"subunitcolor\": \"white\"}, \"hoverlabel\": {\"align\": \"left\"}, \"hovermode\": \"closest\", \"mapbox\": {\"style\": \"light\"}, \"paper_bgcolor\": \"white\", \"plot_bgcolor\": \"#E5ECF6\", \"polar\": {\"angularaxis\": {\"gridcolor\": \"white\", \"linecolor\": \"white\", \"ticks\": \"\"}, \"bgcolor\": \"#E5ECF6\", \"radialaxis\": {\"gridcolor\": \"white\", \"linecolor\": \"white\", \"ticks\": \"\"}}, \"scene\": {\"xaxis\": {\"backgroundcolor\": \"#E5ECF6\", \"gridcolor\": \"white\", \"gridwidth\": 2, \"linecolor\": \"white\", \"showbackground\": true, \"ticks\": \"\", \"zerolinecolor\": \"white\"}, \"yaxis\": {\"backgroundcolor\": \"#E5ECF6\", \"gridcolor\": \"white\", \"gridwidth\": 2, \"linecolor\": \"white\", \"showbackground\": true, \"ticks\": \"\", \"zerolinecolor\": \"white\"}, \"zaxis\": {\"backgroundcolor\": \"#E5ECF6\", \"gridcolor\": \"white\", \"gridwidth\": 2, \"linecolor\": \"white\", \"showbackground\": true, \"ticks\": \"\", \"zerolinecolor\": \"white\"}}, \"shapedefaults\": {\"line\": {\"color\": \"#2a3f5f\"}}, \"ternary\": {\"aaxis\": {\"gridcolor\": \"white\", \"linecolor\": \"white\", \"ticks\": \"\"}, \"baxis\": {\"gridcolor\": \"white\", \"linecolor\": \"white\", \"ticks\": \"\"}, \"bgcolor\": \"#E5ECF6\", \"caxis\": {\"gridcolor\": \"white\", \"linecolor\": \"white\", \"ticks\": \"\"}}, \"title\": {\"x\": 0.05}, \"xaxis\": {\"automargin\": true, \"gridcolor\": \"white\", \"linecolor\": \"white\", \"ticks\": \"\", \"title\": {\"standoff\": 15}, \"zerolinecolor\": \"white\", \"zerolinewidth\": 2}, \"yaxis\": {\"automargin\": true, \"gridcolor\": \"white\", \"linecolor\": \"white\", \"ticks\": \"\", \"title\": {\"standoff\": 15}, \"zerolinecolor\": \"white\", \"zerolinewidth\": 2}}}, \"title\": {\"text\": \"Slice Plot\"}, \"width\": 1200, \"xaxis\": {\"anchor\": \"y\", \"domain\": [0.0, 0.2125], \"title\": {\"text\": \"classifier\"}}, \"xaxis2\": {\"anchor\": \"y2\", \"domain\": [0.2625, 0.475], \"title\": {\"text\": \"max_depth\"}, \"type\": \"log\"}, \"xaxis3\": {\"anchor\": \"y3\", \"domain\": [0.525, 0.7375], \"title\": {\"text\": \"n_estimators\"}}, \"xaxis4\": {\"anchor\": \"y4\", \"domain\": [0.7875, 1.0], \"title\": {\"text\": \"svc_c\"}, \"type\": \"log\"}, \"yaxis\": {\"anchor\": \"x\", \"domain\": [0.0, 1.0], \"title\": {\"text\": \"Objective Value\"}}, \"yaxis2\": {\"anchor\": \"x2\", \"domain\": [0.0, 1.0], \"matches\": \"y\", \"showticklabels\": false}, \"yaxis3\": {\"anchor\": \"x3\", \"domain\": [0.0, 1.0], \"matches\": \"y\", \"showticklabels\": false}, \"yaxis4\": {\"anchor\": \"x4\", \"domain\": [0.0, 1.0], \"matches\": \"y\", \"showticklabels\": false}},\n",
              "                        {\"responsive\": true}\n",
              "                    ).then(function(){\n",
              "                            \n",
              "var gd = document.getElementById('75ec197a-fa99-4958-ab4c-d6465e4f948a');\n",
              "var x = new MutationObserver(function (mutations, observer) {{\n",
              "        var display = window.getComputedStyle(gd).display;\n",
              "        if (!display || display === 'none') {{\n",
              "            console.log([gd, 'removed!']);\n",
              "            Plotly.purge(gd);\n",
              "            observer.disconnect();\n",
              "        }}\n",
              "}});\n",
              "\n",
              "// Listen for the removal of the full notebook cells\n",
              "var notebookContainer = gd.closest('#notebook-container');\n",
              "if (notebookContainer) {{\n",
              "    x.observe(notebookContainer, {childList: true});\n",
              "}}\n",
              "\n",
              "// Listen for the clearing of the current output cell\n",
              "var outputEl = gd.closest('.output');\n",
              "if (outputEl) {{\n",
              "    x.observe(outputEl, {childList: true});\n",
              "}}\n",
              "\n",
              "                        })\n",
              "                };\n",
              "                \n",
              "            </script>\n",
              "        </div>\n",
              "</body>\n",
              "</html>"
            ]
          },
          "metadata": {
            "tags": []
          }
        }
      ]
    },
    {
      "cell_type": "markdown",
      "metadata": {
        "id": "IS1V8pKYQzmg",
        "colab_type": "text"
      },
      "source": [
        "Plotting the accuracy surface for the hyperparameters involved in the random forest model."
      ]
    },
    {
      "cell_type": "code",
      "metadata": {
        "id": "wB1E_u6RQzmg",
        "colab_type": "code",
        "colab": {
          "base_uri": "https://localhost:8080/",
          "height": 542
        },
        "outputId": "5739513a-e8de-466d-cbc5-ed0b39224c01"
      },
      "source": [
        "optuna.visualization.plot_contour(study, params=['n_estimators', 'max_depth'])"
      ],
      "execution_count": 8,
      "outputs": [
        {
          "output_type": "display_data",
          "data": {
            "text/html": [
              "<html>\n",
              "<head><meta charset=\"utf-8\" /></head>\n",
              "<body>\n",
              "    <div>\n",
              "            <script src=\"https://cdnjs.cloudflare.com/ajax/libs/mathjax/2.7.5/MathJax.js?config=TeX-AMS-MML_SVG\"></script><script type=\"text/javascript\">if (window.MathJax) {MathJax.Hub.Config({SVG: {font: \"STIX-Web\"}});}</script>\n",
              "                <script type=\"text/javascript\">window.PlotlyConfig = {MathJaxConfig: 'local'};</script>\n",
              "        <script src=\"https://cdn.plot.ly/plotly-latest.min.js\"></script>    \n",
              "            <div id=\"fc27cb6d-81ee-4f4d-b010-a8d83a63c885\" class=\"plotly-graph-div\" style=\"height:525px; width:100%;\"></div>\n",
              "            <script type=\"text/javascript\">\n",
              "                \n",
              "                    window.PLOTLYENV=window.PLOTLYENV || {};\n",
              "                    \n",
              "                if (document.getElementById(\"fc27cb6d-81ee-4f4d-b010-a8d83a63c885\")) {\n",
              "                    Plotly.newPlot(\n",
              "                        'fc27cb6d-81ee-4f4d-b010-a8d83a63c885',\n",
              "                        [{\"colorbar\": {\"title\": {\"text\": \"Objective Value\"}}, \"colorscale\": [[0, \"rgb(5,10,172)\"], [0.35, \"rgb(40,60,190)\"], [0.5, \"rgb(70,100,245)\"], [0.6, \"rgb(90,120,245)\"], [0.7, \"rgb(106,137,247)\"], [1, \"rgb(220,220,220)\"]], \"connectgaps\": true, \"contours\": {\"coloring\": \"heatmap\"}, \"hoverinfo\": \"none\", \"line\": {\"smoothing\": 1.3}, \"type\": \"contour\", \"x\": [1.1207724595094366, 1.3526731541417072, 1.37772312818475, 1.6274190027169704, 1.8205291255108562, 1.9660456944915936, 2.025267502049802, 2.032066887437598, 2.342309147063078, 2.4011891966102814, 2.584188351905201, 2.6736802199199197, 2.728408791377431, 2.798621731998245, 2.882849689255297, 3.095219161827854, 3.1251399872277172, 3.2181975627782293, 3.4279073471829045, 3.450612803123719, 3.563931421035535, 3.6821117257547913, 3.8028741609653367, 3.8034621040769685, 3.854093169745186, 4.040337316328708, 4.095315209069329, 4.103344074033625, 4.162246728001973, 4.32240406754962, 4.419175794424924, 4.605226873032266, 4.70974563063755, 4.721851385891314, 4.732090930058994, 4.769702047106393, 4.885454664579712, 5.046631585516952, 5.063303965559359, 5.173470702108481, 5.276430297609882, 5.310999667769639, 5.328381695213668, 5.409285448161118, 5.554512189399322, 5.580367227810661, 5.78808751959901, 5.799030855379592, 5.835775184081581, 5.8627983326741955, 5.900373719327792, 5.931945290871352, 6.002010711603384, 6.257168071450484, 6.277028952017253, 6.317187370225169, 6.391196939938895, 6.421712545634927, 6.611256914158104, 6.865467586748677, 6.931255409484731, 6.953246487948035, 7.097022679259553, 7.552069420971851, 7.633224532799218, 7.7145234012294726, 7.7795434107073, 8.106192468855406, 8.322899472826473, 8.374540218954417, 8.643594046396544, 8.672440833362012, 8.886281227679168, 8.900111919759393, 9.506882759592491, 9.817058793348961, 10.20462643374787, 10.521144032513433, 10.583753898294175, 11.661338271943674, 11.79788999164403, 12.542602283660337, 12.54536761259946, 13.70507286639301, 14.577291975627006, 16.16970222392525, 18.066539197554178, 18.13978998344046, 26.438515732104534], \"y\": [2, 3, 4, 5, 6, 7, 8, 9, 10, 11, 12, 13, 14, 15, 16, 17, 18, 19, 20], \"z\": [[null, null, null, null, null, null, null, null, null, 0.9333333333333332, null, null, null, null, null, null, null, null, null, null, null, null, null, null, null, null, 0.9533333333333333, null, null, null, null, null, null, null, null, null, null, null, null, null, null, null, null, null, null, null, null, null, null, null, null, null, null, null, null, null, null, null, null, null, null, null, null, null, null, null, null, null, 0.9333333333333332, null, null, null, null, null, null, null, null, null, null, null, null, null, null, null, null, null, null, null, null], [null, null, null, null, null, null, null, null, null, null, null, 0.9666666666666667, null, null, null, null, null, null, null, null, null, null, null, null, null, null, null, null, null, null, null, null, null, null, null, null, null, null, null, null, null, null, null, null, null, null, null, null, null, null, null, null, null, null, null, null, null, null, null, null, null, null, null, null, null, null, null, null, null, null, null, null, null, null, null, null, null, null, null, null, 0.96, null, null, null, null, null, null, null, null], [null, null, null, null, null, null, null, null, null, null, null, null, null, null, null, null, null, null, null, null, null, null, null, null, null, null, null, null, null, null, null, null, null, null, null, null, null, null, null, null, null, null, null, null, null, null, null, null, null, null, null, null, null, null, null, null, null, null, null, null, null, null, null, null, null, null, null, null, null, null, null, null, null, null, null, null, null, null, 0.94, null, null, null, null, null, null, null, null, null, null], [null, null, null, null, null, null, null, null, null, null, null, null, null, null, null, null, null, null, null, null, null, null, null, null, null, null, null, null, null, null, null, null, null, null, null, null, null, null, null, null, null, null, null, null, null, null, null, null, null, null, null, null, null, null, null, null, null, null, null, null, null, null, null, null, null, 0.96, null, null, null, null, null, null, null, null, null, null, null, null, null, null, null, null, null, 0.9533333333333333, null, null, null, null, null], [null, null, null, null, null, null, null, null, null, null, null, null, null, null, null, null, null, null, null, null, null, null, null, null, null, null, null, null, null, null, null, null, null, null, null, null, null, null, null, null, null, null, null, null, null, null, null, null, null, null, null, null, null, null, null, null, null, null, null, 0.9466666666666667, null, null, null, null, null, null, null, null, null, null, null, null, null, null, null, null, null, null, null, null, null, null, null, null, null, null, null, null, null], [null, null, null, null, null, null, null, null, null, null, null, null, null, null, null, null, null, null, null, null, null, null, null, null, null, null, null, null, null, null, 0.9533333333333333, null, null, null, null, null, null, null, null, null, null, null, null, null, null, null, null, null, null, null, null, null, null, null, null, null, null, null, null, null, null, null, null, null, null, null, null, null, null, null, null, null, null, null, null, null, null, null, null, null, null, null, null, null, null, null, 0.96, null, null], [null, null, null, null, null, null, null, null, null, null, 0.9533333333333333, null, null, null, null, null, null, null, null, null, null, null, 0.9666666666666667, null, 0.96, null, null, 0.9466666666666667, null, null, null, null, null, null, null, null, null, null, null, null, null, null, null, null, null, null, null, null, null, null, null, null, null, null, null, null, null, null, null, null, null, null, null, null, null, null, null, null, null, null, null, null, null, null, null, null, null, null, null, null, null, null, null, null, null, null, null, null, null], [null, null, null, null, null, null, null, null, null, null, null, null, null, null, null, null, null, null, null, null, null, null, null, null, null, null, null, null, null, 0.9533333333333333, null, null, null, null, null, null, null, null, null, null, null, null, null, null, null, null, 0.96, 0.9533333333333333, null, null, null, null, null, null, null, null, 0.9466666666666667, null, null, null, null, null, null, null, null, null, null, null, null, null, null, null, null, null, null, null, null, null, null, null, null, null, null, null, null, null, null, null, null], [null, null, null, null, null, null, null, null, null, null, null, null, null, null, null, null, null, null, null, null, null, null, null, null, null, null, null, null, null, null, null, 0.96, null, null, null, null, null, null, 0.96, null, null, null, null, null, 0.9666666666666667, null, null, null, null, null, null, null, 0.9666666666666667, null, null, null, null, 0.9466666666666667, null, null, null, null, null, 0.96, null, null, null, null, null, null, null, null, null, null, null, null, null, null, null, null, null, null, null, null, null, null, null, null, null], [null, null, 0.7933333333333334, null, null, null, null, null, null, null, null, null, null, null, null, null, null, null, null, null, null, null, null, null, null, null, null, null, null, null, null, null, null, null, null, 0.96, null, null, null, null, 0.9533333333333333, null, null, null, null, null, null, null, 0.9666666666666667, null, null, null, null, null, 0.9466666666666667, null, null, null, null, null, 0.96, null, null, null, null, null, null, null, null, null, null, null, null, null, null, null, null, null, null, null, null, null, null, null, null, null, null, null, null], [null, null, null, null, null, null, null, null, 0.96, null, null, null, 0.96, null, null, null, null, null, null, null, null, null, null, null, null, null, null, null, null, null, null, null, null, null, null, null, null, null, null, null, null, null, null, null, null, null, null, null, null, 0.9666666666666667, null, null, null, null, null, null, null, null, 0.9666666666666667, null, null, 0.9533333333333333, 0.96, null, null, null, null, null, null, null, null, null, 0.9533333333333333, 0.96, null, null, 0.9466666666666667, null, null, null, null, null, null, null, null, null, null, null, null], [null, null, null, null, null, null, null, null, null, null, null, null, null, null, null, 0.96, null, null, null, null, null, 0.9466666666666667, null, 0.9666666666666667, null, null, null, null, null, null, null, null, null, null, null, null, null, 0.9666666666666667, null, null, null, null, 0.96, null, null, null, null, null, null, null, 0.9666666666666667, 0.9533333333333333, null, 0.9466666666666667, null, null, null, null, null, null, null, null, null, null, null, null, null, null, null, null, null, null, null, null, null, null, null, null, null, 0.9533333333333333, null, null, null, null, 0.9466666666666667, null, null, null, null], [null, null, null, null, null, 0.8466666666666667, null, 0.94, null, null, null, null, null, null, null, null, null, 0.9666666666666667, null, null, null, null, null, null, null, null, null, null, null, null, null, null, 0.9666666666666667, null, null, null, 0.9533333333333333, null, null, 0.9666666666666667, null, null, null, 0.9466666666666667, null, null, null, null, null, null, null, null, null, null, null, null, null, null, null, null, null, null, null, null, null, null, null, 0.9533333333333333, null, 0.9666666666666667, 0.96, null, null, null, null, null, null, null, null, null, null, null, null, null, null, null, null, null, null], [0.9333333333333332, 0.9533333333333333, null, null, null, null, 0.9533333333333333, null, null, null, null, null, null, null, null, null, 0.96, null, null, null, null, null, null, null, null, null, null, null, null, null, null, null, null, 0.9666666666666667, 0.96, null, null, null, null, null, null, null, null, null, null, null, null, null, null, null, null, null, null, null, null, null, null, null, null, null, null, null, null, null, null, null, null, null, null, null, null, null, null, null, null, null, null, null, null, null, null, null, 0.9666666666666667, null, null, 0.9466666666666667, null, null, null], [null, null, null, null, null, null, null, null, null, null, null, null, null, 0.94, null, null, null, null, 0.96, null, 0.9533333333333333, null, null, null, null, null, null, null, null, null, null, null, null, null, null, null, null, null, null, null, null, null, null, null, null, null, null, null, null, null, null, null, null, null, null, null, null, null, null, null, null, null, null, null, null, null, null, null, null, null, null, null, null, null, null, null, null, null, null, null, null, 0.96, null, null, null, null, null, null, null], [null, null, null, null, null, null, null, null, null, null, null, null, null, null, 0.9533333333333333, null, null, null, null, 0.96, null, null, null, null, null, null, null, null, 0.96, null, null, null, null, null, null, null, null, null, null, null, null, null, null, null, null, null, null, null, null, null, null, null, null, null, null, null, null, null, null, null, null, null, null, null, null, null, null, null, null, null, null, null, null, null, null, null, null, null, null, null, null, null, null, null, null, null, null, null, null], [null, null, null, null, null, null, null, null, null, null, null, null, null, null, null, null, null, null, null, null, null, null, null, null, null, 0.9533333333333333, null, null, null, null, null, null, null, null, null, null, null, null, null, null, null, 0.9666666666666667, null, null, null, null, null, null, null, null, null, null, null, null, null, 0.96, null, null, null, null, null, null, null, null, null, null, 0.9533333333333333, null, null, null, null, null, null, null, null, 0.96, null, null, null, null, null, null, null, null, null, null, null, null, null], [null, null, null, 0.8466666666666667, null, null, null, null, null, null, null, null, null, null, null, null, null, null, null, null, null, null, null, null, null, null, null, null, null, null, null, null, null, null, null, null, null, null, null, null, null, null, null, null, null, 0.96, null, null, null, null, null, null, null, null, null, null, null, null, null, null, null, null, null, null, 0.96, null, null, null, null, null, null, null, null, null, null, null, null, null, null, null, null, null, null, null, null, null, null, 0.96, null], [null, null, null, null, 0.96, null, null, null, null, null, null, null, null, null, null, null, null, null, null, null, null, null, null, null, null, null, null, null, null, null, null, null, null, null, null, null, null, null, null, null, null, null, null, null, null, null, null, null, null, null, null, null, null, null, null, null, null, null, null, null, null, null, null, null, null, null, null, null, null, null, null, 0.9666666666666667, null, null, 0.96, null, null, 0.9466666666666667, null, null, null, null, null, null, null, null, null, null, 0.9533333333333333]]}, {\"marker\": {\"color\": \"black\"}, \"mode\": \"markers\", \"showlegend\": false, \"type\": \"scatter\", \"x\": [1.9660456944915936, 2.584188351905201, 18.066539197554178, 4.70974563063755, 2.6736802199199197, 8.672440833362012, 4.095315209069329, 1.1207724595094366, 8.322899472826473, 4.040337316328708, 1.37772312818475, 6.865467586748677, 14.577291975627006, 2.882849689255297, 10.583753898294175, 4.605226873032266, 5.580367227810661, 26.438515732104534, 2.798621731998245, 10.20462643374787, 1.8205291255108562, 6.391196939938895, 3.4279073471829045, 13.70507286639301, 5.328381695213668, 7.633224532799218, 7.7795434107073, 9.506882759592491, 10.521144032513433, 5.310999667769639, 2.032066887437598, 4.721851385891314, 2.025267502049802, 3.450612803123719, 5.173470702108481, 4.885454664579712, 3.563931421035535, 2.342309147063078, 6.317187370225169, 4.103344074033625, 1.3526731541417072, 4.162246728001973, 5.409285448161118, 6.611256914158104, 6.931255409484731, 8.886281227679168, 11.79788999164403, 6.002010711603384, 4.419175794424924, 3.095219161827854, 18.13978998344046, 6.421712545634927, 5.046631585516952, 7.552069420971851, 5.8627983326741955, 8.900111919759393, 5.835775184081581, 5.799030855379592, 3.6821117257547913, 4.732090930058994, 4.769702047106393, 5.78808751959901, 5.276430297609882, 6.257168071450484, 7.097022679259553, 8.374540218954417, 5.063303965559359, 12.54536761259946, 12.542602283660337, 2.4011891966102814, 8.643594046396544, 7.7145234012294726, 16.16970222392525, 9.817058793348961, 11.661338271943674, 6.277028952017253, 8.106192468855406, 6.953246487948035, 1.6274190027169704, 5.554512189399322, 4.32240406754962, 3.2181975627782293, 2.728408791377431, 5.900373719327792, 5.931945290871352, 3.8034621040769685, 3.8028741609653367, 3.854093169745186, 3.1251399872277172], \"y\": [14, 8, 7, 14, 3, 20, 2, 15, 2, 18, 11, 6, 13, 17, 4, 10, 19, 20, 16, 12, 20, 9, 16, 5, 13, 19, 18, 20, 20, 18, 14, 15, 15, 17, 14, 14, 16, 12, 18, 8, 15, 17, 14, 12, 11, 12, 3, 10, 7, 13, 19, 10, 13, 10, 12, 12, 11, 9, 13, 15, 11, 9, 11, 13, 12, 14, 10, 15, 16, 2, 14, 5, 15, 18, 13, 11, 14, 12, 19, 10, 9, 14, 12, 13, 13, 13, 8, 8, 15]}],\n",
              "                        {\"template\": {\"data\": {\"bar\": [{\"error_x\": {\"color\": \"#2a3f5f\"}, \"error_y\": {\"color\": \"#2a3f5f\"}, \"marker\": {\"line\": {\"color\": \"#E5ECF6\", \"width\": 0.5}}, \"type\": \"bar\"}], \"barpolar\": [{\"marker\": {\"line\": {\"color\": \"#E5ECF6\", \"width\": 0.5}}, \"type\": \"barpolar\"}], \"carpet\": [{\"aaxis\": {\"endlinecolor\": \"#2a3f5f\", \"gridcolor\": \"white\", \"linecolor\": \"white\", \"minorgridcolor\": \"white\", \"startlinecolor\": \"#2a3f5f\"}, \"baxis\": {\"endlinecolor\": \"#2a3f5f\", \"gridcolor\": \"white\", \"linecolor\": \"white\", \"minorgridcolor\": \"white\", \"startlinecolor\": \"#2a3f5f\"}, \"type\": \"carpet\"}], \"choropleth\": [{\"colorbar\": {\"outlinewidth\": 0, \"ticks\": \"\"}, \"type\": \"choropleth\"}], \"contour\": [{\"colorbar\": {\"outlinewidth\": 0, \"ticks\": \"\"}, \"colorscale\": [[0.0, \"#0d0887\"], [0.1111111111111111, \"#46039f\"], [0.2222222222222222, \"#7201a8\"], [0.3333333333333333, \"#9c179e\"], [0.4444444444444444, \"#bd3786\"], [0.5555555555555556, \"#d8576b\"], [0.6666666666666666, \"#ed7953\"], [0.7777777777777778, \"#fb9f3a\"], [0.8888888888888888, \"#fdca26\"], [1.0, \"#f0f921\"]], \"type\": \"contour\"}], \"contourcarpet\": [{\"colorbar\": {\"outlinewidth\": 0, \"ticks\": \"\"}, \"type\": \"contourcarpet\"}], \"heatmap\": [{\"colorbar\": {\"outlinewidth\": 0, \"ticks\": \"\"}, \"colorscale\": [[0.0, \"#0d0887\"], [0.1111111111111111, \"#46039f\"], [0.2222222222222222, \"#7201a8\"], [0.3333333333333333, \"#9c179e\"], [0.4444444444444444, \"#bd3786\"], [0.5555555555555556, \"#d8576b\"], [0.6666666666666666, \"#ed7953\"], [0.7777777777777778, \"#fb9f3a\"], [0.8888888888888888, \"#fdca26\"], [1.0, \"#f0f921\"]], \"type\": \"heatmap\"}], \"heatmapgl\": [{\"colorbar\": {\"outlinewidth\": 0, \"ticks\": \"\"}, \"colorscale\": [[0.0, \"#0d0887\"], [0.1111111111111111, \"#46039f\"], [0.2222222222222222, \"#7201a8\"], [0.3333333333333333, \"#9c179e\"], [0.4444444444444444, \"#bd3786\"], [0.5555555555555556, \"#d8576b\"], [0.6666666666666666, \"#ed7953\"], [0.7777777777777778, \"#fb9f3a\"], [0.8888888888888888, \"#fdca26\"], [1.0, \"#f0f921\"]], \"type\": \"heatmapgl\"}], \"histogram\": [{\"marker\": {\"colorbar\": {\"outlinewidth\": 0, \"ticks\": \"\"}}, \"type\": \"histogram\"}], \"histogram2d\": [{\"colorbar\": {\"outlinewidth\": 0, \"ticks\": \"\"}, \"colorscale\": [[0.0, \"#0d0887\"], [0.1111111111111111, \"#46039f\"], [0.2222222222222222, \"#7201a8\"], [0.3333333333333333, \"#9c179e\"], [0.4444444444444444, \"#bd3786\"], [0.5555555555555556, \"#d8576b\"], [0.6666666666666666, \"#ed7953\"], [0.7777777777777778, \"#fb9f3a\"], [0.8888888888888888, \"#fdca26\"], [1.0, \"#f0f921\"]], \"type\": \"histogram2d\"}], \"histogram2dcontour\": [{\"colorbar\": {\"outlinewidth\": 0, \"ticks\": \"\"}, \"colorscale\": [[0.0, \"#0d0887\"], [0.1111111111111111, \"#46039f\"], [0.2222222222222222, \"#7201a8\"], [0.3333333333333333, \"#9c179e\"], [0.4444444444444444, \"#bd3786\"], [0.5555555555555556, \"#d8576b\"], [0.6666666666666666, \"#ed7953\"], [0.7777777777777778, \"#fb9f3a\"], [0.8888888888888888, \"#fdca26\"], [1.0, \"#f0f921\"]], \"type\": \"histogram2dcontour\"}], \"mesh3d\": [{\"colorbar\": {\"outlinewidth\": 0, \"ticks\": \"\"}, \"type\": \"mesh3d\"}], \"parcoords\": [{\"line\": {\"colorbar\": {\"outlinewidth\": 0, \"ticks\": \"\"}}, \"type\": \"parcoords\"}], \"pie\": [{\"automargin\": true, \"type\": \"pie\"}], \"scatter\": [{\"marker\": {\"colorbar\": {\"outlinewidth\": 0, \"ticks\": \"\"}}, \"type\": \"scatter\"}], \"scatter3d\": [{\"line\": {\"colorbar\": {\"outlinewidth\": 0, \"ticks\": \"\"}}, \"marker\": {\"colorbar\": {\"outlinewidth\": 0, \"ticks\": \"\"}}, \"type\": \"scatter3d\"}], \"scattercarpet\": [{\"marker\": {\"colorbar\": {\"outlinewidth\": 0, \"ticks\": \"\"}}, \"type\": \"scattercarpet\"}], \"scattergeo\": [{\"marker\": {\"colorbar\": {\"outlinewidth\": 0, \"ticks\": \"\"}}, \"type\": \"scattergeo\"}], \"scattergl\": [{\"marker\": {\"colorbar\": {\"outlinewidth\": 0, \"ticks\": \"\"}}, \"type\": \"scattergl\"}], \"scattermapbox\": [{\"marker\": {\"colorbar\": {\"outlinewidth\": 0, \"ticks\": \"\"}}, \"type\": \"scattermapbox\"}], \"scatterpolar\": [{\"marker\": {\"colorbar\": {\"outlinewidth\": 0, \"ticks\": \"\"}}, \"type\": \"scatterpolar\"}], \"scatterpolargl\": [{\"marker\": {\"colorbar\": {\"outlinewidth\": 0, \"ticks\": \"\"}}, \"type\": \"scatterpolargl\"}], \"scatterternary\": [{\"marker\": {\"colorbar\": {\"outlinewidth\": 0, \"ticks\": \"\"}}, \"type\": \"scatterternary\"}], \"surface\": [{\"colorbar\": {\"outlinewidth\": 0, \"ticks\": \"\"}, \"colorscale\": [[0.0, \"#0d0887\"], [0.1111111111111111, \"#46039f\"], [0.2222222222222222, \"#7201a8\"], [0.3333333333333333, \"#9c179e\"], [0.4444444444444444, \"#bd3786\"], [0.5555555555555556, \"#d8576b\"], [0.6666666666666666, \"#ed7953\"], [0.7777777777777778, \"#fb9f3a\"], [0.8888888888888888, \"#fdca26\"], [1.0, \"#f0f921\"]], \"type\": \"surface\"}], \"table\": [{\"cells\": {\"fill\": {\"color\": \"#EBF0F8\"}, \"line\": {\"color\": \"white\"}}, \"header\": {\"fill\": {\"color\": \"#C8D4E3\"}, \"line\": {\"color\": \"white\"}}, \"type\": \"table\"}]}, \"layout\": {\"annotationdefaults\": {\"arrowcolor\": \"#2a3f5f\", \"arrowhead\": 0, \"arrowwidth\": 1}, \"coloraxis\": {\"colorbar\": {\"outlinewidth\": 0, \"ticks\": \"\"}}, \"colorscale\": {\"diverging\": [[0, \"#8e0152\"], [0.1, \"#c51b7d\"], [0.2, \"#de77ae\"], [0.3, \"#f1b6da\"], [0.4, \"#fde0ef\"], [0.5, \"#f7f7f7\"], [0.6, \"#e6f5d0\"], [0.7, \"#b8e186\"], [0.8, \"#7fbc41\"], [0.9, \"#4d9221\"], [1, \"#276419\"]], \"sequential\": [[0.0, \"#0d0887\"], [0.1111111111111111, \"#46039f\"], [0.2222222222222222, \"#7201a8\"], [0.3333333333333333, \"#9c179e\"], [0.4444444444444444, \"#bd3786\"], [0.5555555555555556, \"#d8576b\"], [0.6666666666666666, \"#ed7953\"], [0.7777777777777778, \"#fb9f3a\"], [0.8888888888888888, \"#fdca26\"], [1.0, \"#f0f921\"]], \"sequentialminus\": [[0.0, \"#0d0887\"], [0.1111111111111111, \"#46039f\"], [0.2222222222222222, \"#7201a8\"], [0.3333333333333333, \"#9c179e\"], [0.4444444444444444, \"#bd3786\"], [0.5555555555555556, \"#d8576b\"], [0.6666666666666666, \"#ed7953\"], [0.7777777777777778, \"#fb9f3a\"], [0.8888888888888888, \"#fdca26\"], [1.0, \"#f0f921\"]]}, \"colorway\": [\"#636efa\", \"#EF553B\", \"#00cc96\", \"#ab63fa\", \"#FFA15A\", \"#19d3f3\", \"#FF6692\", \"#B6E880\", \"#FF97FF\", \"#FECB52\"], \"font\": {\"color\": \"#2a3f5f\"}, \"geo\": {\"bgcolor\": \"white\", \"lakecolor\": \"white\", \"landcolor\": \"#E5ECF6\", \"showlakes\": true, \"showland\": true, \"subunitcolor\": \"white\"}, \"hoverlabel\": {\"align\": \"left\"}, \"hovermode\": \"closest\", \"mapbox\": {\"style\": \"light\"}, \"paper_bgcolor\": \"white\", \"plot_bgcolor\": \"#E5ECF6\", \"polar\": {\"angularaxis\": {\"gridcolor\": \"white\", \"linecolor\": \"white\", \"ticks\": \"\"}, \"bgcolor\": \"#E5ECF6\", \"radialaxis\": {\"gridcolor\": \"white\", \"linecolor\": \"white\", \"ticks\": \"\"}}, \"scene\": {\"xaxis\": {\"backgroundcolor\": \"#E5ECF6\", \"gridcolor\": \"white\", \"gridwidth\": 2, \"linecolor\": \"white\", \"showbackground\": true, \"ticks\": \"\", \"zerolinecolor\": \"white\"}, \"yaxis\": {\"backgroundcolor\": \"#E5ECF6\", \"gridcolor\": \"white\", \"gridwidth\": 2, \"linecolor\": \"white\", \"showbackground\": true, \"ticks\": \"\", \"zerolinecolor\": \"white\"}, \"zaxis\": {\"backgroundcolor\": \"#E5ECF6\", \"gridcolor\": \"white\", \"gridwidth\": 2, \"linecolor\": \"white\", \"showbackground\": true, \"ticks\": \"\", \"zerolinecolor\": \"white\"}}, \"shapedefaults\": {\"line\": {\"color\": \"#2a3f5f\"}}, \"ternary\": {\"aaxis\": {\"gridcolor\": \"white\", \"linecolor\": \"white\", \"ticks\": \"\"}, \"baxis\": {\"gridcolor\": \"white\", \"linecolor\": \"white\", \"ticks\": \"\"}, \"bgcolor\": \"#E5ECF6\", \"caxis\": {\"gridcolor\": \"white\", \"linecolor\": \"white\", \"ticks\": \"\"}}, \"title\": {\"x\": 0.05}, \"xaxis\": {\"automargin\": true, \"gridcolor\": \"white\", \"linecolor\": \"white\", \"ticks\": \"\", \"title\": {\"standoff\": 15}, \"zerolinecolor\": \"white\", \"zerolinewidth\": 2}, \"yaxis\": {\"automargin\": true, \"gridcolor\": \"white\", \"linecolor\": \"white\", \"ticks\": \"\", \"title\": {\"standoff\": 15}, \"zerolinecolor\": \"white\", \"zerolinewidth\": 2}}}, \"title\": {\"text\": \"Contour Plot\"}, \"xaxis\": {\"range\": [0.04951745058782437, 1.4222370700476938], \"title\": {\"text\": \"max_depth\"}, \"type\": \"log\"}, \"yaxis\": {\"range\": [2, 20], \"title\": {\"text\": \"n_estimators\"}}},\n",
              "                        {\"responsive\": true}\n",
              "                    ).then(function(){\n",
              "                            \n",
              "var gd = document.getElementById('fc27cb6d-81ee-4f4d-b010-a8d83a63c885');\n",
              "var x = new MutationObserver(function (mutations, observer) {{\n",
              "        var display = window.getComputedStyle(gd).display;\n",
              "        if (!display || display === 'none') {{\n",
              "            console.log([gd, 'removed!']);\n",
              "            Plotly.purge(gd);\n",
              "            observer.disconnect();\n",
              "        }}\n",
              "}});\n",
              "\n",
              "// Listen for the removal of the full notebook cells\n",
              "var notebookContainer = gd.closest('#notebook-container');\n",
              "if (notebookContainer) {{\n",
              "    x.observe(notebookContainer, {childList: true});\n",
              "}}\n",
              "\n",
              "// Listen for the clearing of the current output cell\n",
              "var outputEl = gd.closest('.output');\n",
              "if (outputEl) {{\n",
              "    x.observe(outputEl, {childList: true});\n",
              "}}\n",
              "\n",
              "                        })\n",
              "                };\n",
              "                \n",
              "            </script>\n",
              "        </div>\n",
              "</body>\n",
              "</html>"
            ]
          },
          "metadata": {
            "tags": []
          }
        }
      ]
    }
  ]
}